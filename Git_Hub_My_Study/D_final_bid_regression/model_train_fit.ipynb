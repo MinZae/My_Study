{
 "cells": [
  {
   "cell_type": "code",
   "execution_count": 9,
   "metadata": {},
   "outputs": [],
   "source": [
    "import pandas as pd\n",
    "import numpy as np\n",
    "import matplotlib.pyplot as plt\n",
    "import seaborn as sns\n",
    "import re\n",
    "from sklearn import preprocessing\n",
    "le = preprocessing.LabelEncoder()\n",
    "\n",
    "%matplotlib inline\n",
    "\n",
    "pd.set_option(\"display.max_rows\",101)\n",
    "pd.set_option(\"display.max_columns\",101)"
   ]
  },
  {
   "cell_type": "code",
   "execution_count": 2,
   "metadata": {},
   "outputs": [],
   "source": [
    "from matplotlib import font_manager, rc\n",
    "font_name = font_manager.FontProperties(fname=\"c:/Windows/Fonts/malgun.ttf\").get_name()\n",
    "rc('font', family=font_name)"
   ]
  },
  {
   "cell_type": "code",
   "execution_count": 3,
   "metadata": {},
   "outputs": [],
   "source": [
    "TRAIN_DATA = pd.read_csv('# I can not disclose it now because of security')\n",
    "TEST_DATA = pd.read_csv('# I can not disclose it now because of security')\n",
    "\n",
    "train_data = TRAIN_DATA.copy()\n",
    "test_data = TEST_DATA.copy()"
   ]
  },
  {
   "cell_type": "code",
   "execution_count": 4,
   "metadata": {},
   "outputs": [
    {
     "data": {
      "text/html": [
       "<div>\n",
       "<style scoped>\n",
       "    .dataframe tbody tr th:only-of-type {\n",
       "        vertical-align: middle;\n",
       "    }\n",
       "\n",
       "    .dataframe tbody tr th {\n",
       "        vertical-align: top;\n",
       "    }\n",
       "\n",
       "    .dataframe thead th {\n",
       "        text-align: right;\n",
       "    }\n",
       "</style>\n",
       "<table border=\"1\" class=\"dataframe\">\n",
       "  <thead>\n",
       "    <tr style=\"text-align: right;\">\n",
       "      <th></th>\n",
       "      <th>station_id</th>\n",
       "      <th>latitude</th>\n",
       "      <th>longitude</th>\n",
       "      <th>subway_line</th>\n",
       "      <th>address_by_law</th>\n",
       "    </tr>\n",
       "  </thead>\n",
       "  <tbody>\n",
       "    <tr>\n",
       "      <th>0</th>\n",
       "      <td>1</td>\n",
       "      <td>37.555729</td>\n",
       "      <td>126.972145</td>\n",
       "      <td>1,4,KJ,AP</td>\n",
       "      <td>1.114012e+09</td>\n",
       "    </tr>\n",
       "    <tr>\n",
       "      <th>1</th>\n",
       "      <td>2</td>\n",
       "      <td>37.565624</td>\n",
       "      <td>126.976936</td>\n",
       "      <td>1,2</td>\n",
       "      <td>1.114017e+09</td>\n",
       "    </tr>\n",
       "    <tr>\n",
       "      <th>2</th>\n",
       "      <td>3</td>\n",
       "      <td>37.570169</td>\n",
       "      <td>126.983099</td>\n",
       "      <td>1</td>\n",
       "      <td>1.111013e+09</td>\n",
       "    </tr>\n",
       "    <tr>\n",
       "      <th>3</th>\n",
       "      <td>4</td>\n",
       "      <td>37.571570</td>\n",
       "      <td>126.991895</td>\n",
       "      <td>1,3,5</td>\n",
       "      <td>1.111016e+09</td>\n",
       "    </tr>\n",
       "    <tr>\n",
       "      <th>4</th>\n",
       "      <td>5</td>\n",
       "      <td>37.570988</td>\n",
       "      <td>127.001921</td>\n",
       "      <td>1</td>\n",
       "      <td>1.111016e+09</td>\n",
       "    </tr>\n",
       "  </tbody>\n",
       "</table>\n",
       "</div>"
      ],
      "text/plain": [
       "   station_id   latitude   longitude subway_line  address_by_law\n",
       "0           1  37.555729  126.972145   1,4,KJ,AP    1.114012e+09\n",
       "1           2  37.565624  126.976936         1,2    1.114017e+09\n",
       "2           3  37.570169  126.983099           1    1.111013e+09\n",
       "3           4  37.571570  126.991895       1,3,5    1.111016e+09\n",
       "4           5  37.570988  127.001921           1    1.111016e+09"
      ]
     },
     "execution_count": 4,
     "metadata": {},
     "output_type": "execute_result"
    }
   ],
   "source": [
    "subway = pd.read_csv('# I can not disclose it now because of security')\n",
    "subway.head()"
   ]
  },
  {
   "cell_type": "code",
   "execution_count": 5,
   "metadata": {},
   "outputs": [],
   "source": [
    "train_data['New_target'] = train_data['#security#'] - train_data['#security#']"
   ]
  },
  {
   "cell_type": "code",
   "execution_count": 6,
   "metadata": {},
   "outputs": [],
   "source": [
    "Creditor_1st = [#security#]\n",
    "\n",
    "Creditor_2nd = [#security#']\n",
    "\n",
    "Creditor_3nd = [#security#]\n",
    "\n",
    "# 개인\n",
    "Private = [#security#]"
   ]
  },
  {
   "cell_type": "code",
   "execution_count": 7,
   "metadata": {},
   "outputs": [],
   "source": [
    "def Creditor_class(x):\n",
    "\n",
    "    # Creditor 1st\n",
    "    for i, creditor in enumerate(x):\n",
    "        if creditor in Creditor_1st:\n",
    "            x[i] = '1st'\n",
    "\n",
    "    # Creditor 2cnd\n",
    "    for i, creditor in enumerate(x):\n",
    "        for key_word in Creditor_2nd:\n",
    "            word = re.search(key_word, creditor)\n",
    "            if word != None:\n",
    "                x[i] = '2nd'\n",
    "\n",
    "    # Creditor 3nd\n",
    "    for i, creditor in enumerate(x):\n",
    "        for key_word in Creditor_3nd:\n",
    "            word = re.search(key_word, creditor[2:])\n",
    "            if word != None:\n",
    "                x[i] = '3nd'\n",
    "\n",
    "    # Private\n",
    "    for i, creditor in enumerate(x):\n",
    "        for key_word in Private:\n",
    "            word = re.search(key_word, creditor)\n",
    "            if word != None:\n",
    "                x[i] = 'Private'\n",
    " "
   ]
  },
  {
   "cell_type": "code",
   "execution_count": 8,
   "metadata": {},
   "outputs": [],
   "source": [
    "si_group = train_data.groupby('#security#').count()\n",
    "si_sort = si_group['New_target'].rank(ascending = 1)\n",
    "si_name_sort = si_sort.keys()\n",
    "\n",
    "si_match = {}\n",
    "\n",
    "for i in range(0, len(si_sort)):\n",
    "    si_match[si_name_sort[i]] = si_sort[i]"
   ]
  },
  {
   "cell_type": "code",
   "execution_count": 9,
   "metadata": {},
   "outputs": [],
   "source": [
    "#si_match"
   ]
  },
  {
   "cell_type": "code",
   "execution_count": 10,
   "metadata": {},
   "outputs": [],
   "source": [
    "def gps_distance(x1, y1, x2, y2):\n",
    "    from math import sin, cos, sqrt, atan2, radians # approximate radius of earth in km \n",
    "\n",
    "    R = 6373.0 \n",
    "    lat1 = radians(x1) \n",
    "    lon1 = radians(y1) \n",
    "    lat2 = radians(x2) \n",
    "    lon2 = radians(y2) \n",
    "    dlon = lon2 - lon1 \n",
    "    dlat = lat2 - lat1 \n",
    "    a = sin(dlat / 2)**2 + cos(lat1) * cos(lat2) * sin(dlon / 2)**2 \n",
    "    c = 2 * atan2(sqrt(a), sqrt(1 - a)) \n",
    "    distance = R * c\n",
    "    \n",
    "    return distance\n",
    "\n",
    "def make_city_data(data):\n",
    "    city_data = data.copy()\n",
    "    city_data = city_data[['point.x', 'point.y', 'Hammer_price']]\n",
    "    \n",
    "    return city_data\n",
    "\n",
    "def all_distance(data):\n",
    "    for i in range(0, len(subway)):\n",
    "        distance_list = []\n",
    "        for j in range(0, len(data)):\n",
    "            distance = gps_distance(data['point.y'].iloc[j], data['point.x'].iloc[j], subway['latitude'][i], subway['longitude'][i])\n",
    "            distance_list.append(distance)\n",
    "        if i == 0:\n",
    "            distance_data = pd.DataFrame({'distance'+str(i) : distance_list})\n",
    "        else:\n",
    "            new_distance_data = pd.DataFrame({'distance'+str(i) : distance_list})\n",
    "            distance_data = pd.concat([distance_data, new_distance_data], axis=1, sort=False)\n",
    "    return distance_data\n",
    "\n",
    "def make_distance_feature(distancedata, data):\n",
    "    distance_under_1km = []\n",
    "    minimum_distance = []\n",
    "    \n",
    "    for i in range(0, len(distancedata)):\n",
    "        distance_under_1km.append((distancedata.iloc[i] < 1).sum())\n",
    "        minimum_distance.append(distancedata.iloc[i].min())\n",
    "\n",
    "    data['distance_under_1km'] = pd.DataFrame({'distance_under_1km' : distance_under_1km})\n",
    "    data['minimum_distance'] = pd.DataFrame({'minimum_distance' : minimum_distance})\n",
    "    \n",
    "        \n",
    "    return data.head()\n"
   ]
  },
  {
   "cell_type": "code",
   "execution_count": 11,
   "metadata": {},
   "outputs": [],
   "source": [
    "haeundae_lat = 35.1052 \n",
    "haeundae_lon = 129.1043\n",
    "\n",
    "busan_lat = 35.115486\n",
    "busan_lon = 129.042237\n",
    "\n",
    "gangnam_lat = 37.498061\n",
    "gangnam_lon = 127.027632\n",
    "\n",
    "cityhall_lat = 37.565861\n",
    "cityhall_lon = 126.976947"
   ]
  },
  {
   "cell_type": "code",
   "execution_count": 12,
   "metadata": {},
   "outputs": [],
   "source": [
    "def distance_from_station(station_name,station_lat1, station_lon1, station_lat2, station_lon2, data):\n",
    "    distance = []\n",
    "    for i in range(0, len(data)):\n",
    "        if data.iloc[i]['addr_do'] == '#security#':\n",
    "            dis = gps_distance(station_lat1, station_lon1, data.iloc[i]['point.y'], data.iloc[i]['point.x'])\n",
    "            distance.append(dis)\n",
    "        else:\n",
    "            dis = gps_distance(station_lat2, station_lon2, data.iloc[i]['point.y'], data.iloc[i]['point.x'])\n",
    "            distance.append(dis)\n",
    "    data['distance_from_' + station_name] = pd.DataFrame({'distance_from_station' : distance})\n",
    "    return data.head(3)"
   ]
  },
  {
   "cell_type": "code",
   "execution_count": 13,
   "metadata": {},
   "outputs": [],
   "source": [
    "def data_preprocessing(processed_data):\n",
    "    #New_target\n",
    "    processed_data['New_target'] = processed_data['#security#'] - processed_data['#security#']\n",
    "\n",
    "    #date\n",
    "    processed_data['#security#'] = processed_data['#security#'].apply(lambda x: pd.to_datetime(str(x),format='%Y%m%d %H:%M:%S.%f'))\n",
    "    processed_data['#security#'] = processed_data['#security#'].apply(lambda x: pd.to_datetime(str(x),format='%Y%m%d %H:%M:%S.%f'))\n",
    "    \n",
    "    processed_data = processed_data.drop(['#security#','#security#', '#security#'],axis=1)\n",
    "    \n",
    "    processed_data['#security#'] = processed_data['#security#'] - processed_data['#security#']\n",
    "    \n",
    "    processed_data['#security#'] = processed_data['#security#'].apply(lambda x: re.sub(' days', '', str(x)))\n",
    "    processed_data['#security#'] = processed_data['#security#'].apply(lambda x: str(x)[:-8])\n",
    "    processed_data['#security#'] = processed_data['#security#'].astype(np.int64)\n",
    "   \n",
    "    # #security#\n",
    "    processed_data['#security#'] = processed_data['#security#'].map({'#security#': 0, '#security#': 1})\n",
    "    \n",
    "    # #security#\n",
    "    dummies = pd.get_dummies(processed_data['#security#'])\n",
    "    processed_data['#security#'] = dummies['#security#']\n",
    "    processed_data['#security#'] = dummies['#security#']\n",
    "    processed_data['#security#'] = dummies['#security#']\n",
    "    processed_data = processed_data.drop([\"#security#\"],axis=1)\n",
    "    \n",
    "    # #security#\n",
    "    processed_data['#security#'] = processed_data['#security#'].map({'N': 1, 'Y': 0})\n",
    "    \n",
    "    # #security#\n",
    "    processed_data = processed_data.drop(['#security#'],axis=1)\n",
    "    \n",
    "    # #security#\n",
    "    processed_data = processed_data.drop([\"#security#\"],axis=1)\n",
    "    \n",
    "    # #security#\n",
    "    #security#_class(processed_data['#security#'])\n",
    "    processed_data['#security#'] = processed_data['#security#'].apply(lambda y: 'Coroperation' if (y != '1st') & (y != '2nd') & (y != '3nd') & (y != 'Private') else y)\n",
    "    dummies = pd.get_dummies(processed_data['#security#'])\n",
    "    processed_data['#security#_1st'] = dummies['1st']\n",
    "    processed_data['#security#_2nd'] = dummies['2nd']\n",
    "    processed_data['#security#_3nd'] = dummies['3nd']\n",
    "    processed_data['#security#_Coroperation'] = dummies['Coroperation']\n",
    "    processed_data['#security#_Private'] = dummies['Private']\n",
    "    processed_data = processed_data.drop([\"#security#\"],axis=1)\n",
    "    \n",
    "    # #security#\n",
    "    #dummies = pd.get_dummies(processed_data['#security#'])\n",
    "    #processed_data = pd.concat([processed_data, dummies], axis=1)\n",
    "    processed_data['#security#_rank'] = processed_data['#security#'].map(si_match)\n",
    "    processed_data = processed_data.drop([\"#security#\"],axis=1)\n",
    "    \n",
    "    # #security#\n",
    "    processed_data = processed_data.drop(['#security#', '#security#'],axis=1)\n",
    "    \n",
    "    # #security#\n",
    "    processed_data.#security# = le.fit_transform(processed_data.#security#)\n",
    "    \n",
    "    # #security#, #security#, etc\n",
    "    processed_data = processed_data.drop(['#security#',#security#bunji2', #security#etc'],axis=1)\n",
    "    \n",
    "    # #security#\n",
    "    processed_data.#security# = le.fit_transform(processed_data.#security#)\n",
    "    \n",
    "    # #security#\n",
    "    processed_data = processed_data.drop(['#security#'],axis=1)\n",
    "    \n",
    "    # #security#, #security#, #security#2\n",
    "    processed_data = processed_data.drop(['#security#1','#security#2', '#security#'],axis=1)\n",
    "    \n",
    "    # #security#\n",
    "    processed_data = processed_data.drop(['#security#'],axis=1)\n",
    "    \n",
    "    # #security#, #security#\n",
    "    # make distance data 1\n",
    "    make_distance_feature(all_distance(make_city_data(processed_data)), processed_data)\n",
    "    \n",
    "    # make distance data 2\n",
    "    distance_from_station('Haeundae_or_Gangnam', haeundae_lat, haeundae_lon, gangnam_lat, gangnam_lon, processed_data)\n",
    "\n",
    "    # floor\n",
    "    processed_data['#security#'] = processed_data['#security#'] + processed_data['#security#']\n",
    "\n",
    "    # addr_si\n",
    "    processed_data[#security#do'] = processed_data['addr_do'].map({'#security#': 0, '#security#': 1})\n",
    "    \n",
    "    # building and land\n",
    "    processed_data['#security#'] = processed_data['#security#'] - processed_data['#security#']\n",
    "    processed_data['#security#'] = processed_data['#security#'] - processed_data['#security#']\n",
    "    \n",
    "    return processed_data\n"
   ]
  },
  {
   "cell_type": "code",
   "execution_count": 14,
   "metadata": {},
   "outputs": [
    {
     "name": "stderr",
     "output_type": "stream",
     "text": [
      "C:\\ProgramData\\Anaconda3\\lib\\site-packages\\ipykernel_launcher.py:6: SettingWithCopyWarning: \n",
      "A value is trying to be set on a copy of a slice from a DataFrame\n",
      "\n",
      "See the caveats in the documentation: http://pandas.pydata.org/pandas-docs/stable/indexing.html#indexing-view-versus-copy\n",
      "  \n",
      "C:\\ProgramData\\Anaconda3\\lib\\site-packages\\ipykernel_launcher.py:13: SettingWithCopyWarning: \n",
      "A value is trying to be set on a copy of a slice from a DataFrame\n",
      "\n",
      "See the caveats in the documentation: http://pandas.pydata.org/pandas-docs/stable/indexing.html#indexing-view-versus-copy\n",
      "  del sys.path[0]\n",
      "C:\\ProgramData\\Anaconda3\\lib\\site-packages\\ipykernel_launcher.py:20: SettingWithCopyWarning: \n",
      "A value is trying to be set on a copy of a slice from a DataFrame\n",
      "\n",
      "See the caveats in the documentation: http://pandas.pydata.org/pandas-docs/stable/indexing.html#indexing-view-versus-copy\n",
      "C:\\ProgramData\\Anaconda3\\lib\\site-packages\\ipykernel_launcher.py:27: SettingWithCopyWarning: \n",
      "A value is trying to be set on a copy of a slice from a DataFrame\n",
      "\n",
      "See the caveats in the documentation: http://pandas.pydata.org/pandas-docs/stable/indexing.html#indexing-view-versus-copy\n"
     ]
    }
   ],
   "source": [
    "train = data_preprocessing(train_data)\n",
    "test = data_preprocessing(test_data)"
   ]
  },
  {
   "cell_type": "code",
   "execution_count": 15,
   "metadata": {},
   "outputs": [
    {
     "name": "stderr",
     "output_type": "stream",
     "text": [
      "C:\\ProgramData\\Anaconda3\\lib\\site-packages\\ipykernel_launcher.py:1: SettingWithCopyWarning: \n",
      "A value is trying to be set on a copy of a slice from a DataFrame\n",
      "\n",
      "See the caveats in the documentation: http://pandas.pydata.org/pandas-docs/stable/indexing.html#indexing-view-versus-copy\n",
      "  \"\"\"Entry point for launching an IPython kernel.\n",
      "C:\\ProgramData\\Anaconda3\\lib\\site-packages\\ipykernel_launcher.py:2: SettingWithCopyWarning: \n",
      "A value is trying to be set on a copy of a slice from a DataFrame\n",
      "\n",
      "See the caveats in the documentation: http://pandas.pydata.org/pandas-docs/stable/indexing.html#indexing-view-versus-copy\n",
      "  \n"
     ]
    }
   ],
   "source": [
    "train['#security#'][318] = 13\n",
    "train['#security#'][1383] = 14"
   ]
  },
  {
   "cell_type": "code",
   "execution_count": 16,
   "metadata": {},
   "outputs": [
    {
     "name": "stderr",
     "output_type": "stream",
     "text": [
      "C:\\ProgramData\\Anaconda3\\lib\\site-packages\\ipykernel_launcher.py:1: SettingWithCopyWarning: \n",
      "A value is trying to be set on a copy of a slice from a DataFrame\n",
      "\n",
      "See the caveats in the documentation: http://pandas.pydata.org/pandas-docs/stable/indexing.html#indexing-view-versus-copy\n",
      "  \"\"\"Entry point for launching an IPython kernel.\n",
      "C:\\ProgramData\\Anaconda3\\lib\\site-packages\\ipykernel_launcher.py:2: SettingWithCopyWarning: \n",
      "A value is trying to be set on a copy of a slice from a DataFrame\n",
      "\n",
      "See the caveats in the documentation: http://pandas.pydata.org/pandas-docs/stable/indexing.html#indexing-view-versus-copy\n",
      "  \n",
      "C:\\ProgramData\\Anaconda3\\lib\\site-packages\\ipykernel_launcher.py:3: SettingWithCopyWarning: \n",
      "A value is trying to be set on a copy of a slice from a DataFrame\n",
      "\n",
      "See the caveats in the documentation: http://pandas.pydata.org/pandas-docs/stable/indexing.html#indexing-view-versus-copy\n",
      "  This is separate from the ipykernel package so we can avoid doing imports until\n",
      "C:\\ProgramData\\Anaconda3\\lib\\site-packages\\ipykernel_launcher.py:4: SettingWithCopyWarning: \n",
      "A value is trying to be set on a copy of a slice from a DataFrame\n",
      "\n",
      "See the caveats in the documentation: http://pandas.pydata.org/pandas-docs/stable/indexing.html#indexing-view-versus-copy\n",
      "  after removing the cwd from sys.path.\n"
     ]
    }
   ],
   "source": [
    "test['#security#'][156] = 3\n",
    "test['#security#'][540] = 6\n",
    "test['#security#'][627] = 3\n",
    "test['#security#'][672] = 1"
   ]
  },
  {
   "cell_type": "code",
   "execution_count": 17,
   "metadata": {},
   "outputs": [],
   "source": [
    "TEST = test.copy()\n",
    "TRAIN = train.copy()"
   ]
  },
  {
   "cell_type": "code",
   "execution_count": 18,
   "metadata": {},
   "outputs": [],
   "source": [
    "TEST_auction_key = TEST['#security#']\n",
    "#TEST_auction_key"
   ]
  },
  {
   "cell_type": "code",
   "execution_count": 19,
   "metadata": {},
   "outputs": [],
   "source": [
    "TRAIN[\"DIFF_app_min\"] = TRAIN[\"#security#\"]- TRAIN[\"#security#\"]\n",
    "TEST[\"DIFF_app_min\"] = TEST[\"#security#\"]- TEST[\"#security#\"]"
   ]
  },
  {
   "cell_type": "code",
   "execution_count": 20,
   "metadata": {},
   "outputs": [],
   "source": [
    "TRAIN[\"DIFF_Min_Claim\"] = TRAIN[\"#security#\"] - TRAIN[\"#security#\"]\n",
    "TEST[\"DIFF_Min_Claim\"] = TEST[\"#security#\"] - TEST[\"#security#\"]"
   ]
  },
  {
   "cell_type": "code",
   "execution_count": 2,
   "metadata": {},
   "outputs": [],
   "source": [
    "#TRAIN.info()"
   ]
  },
  {
   "cell_type": "code",
   "execution_count": 3,
   "metadata": {},
   "outputs": [],
   "source": [
    "#TRAIN.describe()"
   ]
  },
  {
   "cell_type": "code",
   "execution_count": 5,
   "metadata": {},
   "outputs": [],
   "source": [
    "#corr_mat = TRAIN.corr()\n",
    "#corr_mat['New_target'].sort_values(ascending = False)"
   ]
  },
  {
   "cell_type": "code",
   "execution_count": 25,
   "metadata": {},
   "outputs": [],
   "source": [
    "busan_train = TRAIN[TRAIN['#security#'] == 0]\n",
    "seoul_train = TRAIN[TRAIN['#security#'] == 1]\n",
    "busan_test = TEST[TEST['#security#'] == 0]\n",
    "seoul_test = TEST[TEST['#security#'] == 1]"
   ]
  },
  {
   "cell_type": "code",
   "execution_count": 26,
   "metadata": {},
   "outputs": [],
   "source": [
    "features = ['#security#' ,'#security#']"
   ]
  },
  {
   "cell_type": "code",
   "execution_count": 27,
   "metadata": {},
   "outputs": [],
   "source": [
    "features_drop = [#security#]"
   ]
  },
  {
   "cell_type": "code",
   "execution_count": 29,
   "metadata": {},
   "outputs": [],
   "source": [
    "from sklearn.model_selection import train_test_split\n",
    "busan_train_y = busan_train[\"New_target\"].values\n",
    "#busan_train_X = busan_train[features]\n",
    "busan_train_X = busan_train.drop(features_drop, axis = 1)\n",
    "\n",
    "bt_X_train, bt_X_test, bt_y_train, bt_y_test = train_test_split(busan_train_X, busan_train_y, test_size=0.3, random_state=42)\n",
    "bt_min = bt_X_test['#security#']\n",
    "bt_ham = bt_X_test['#security#']\n",
    "\n",
    "bt_X_train = bt_X_train.drop(['#security#', '#security#'], axis = 1)\n",
    "bt_X_test = bt_X_test.drop(['#security#', '#security#'], axis = 1)"
   ]
  },
  {
   "cell_type": "code",
   "execution_count": 6,
   "metadata": {},
   "outputs": [],
   "source": [
    "#bt_X_train.columns"
   ]
  },
  {
   "cell_type": "code",
   "execution_count": 31,
   "metadata": {},
   "outputs": [],
   "source": [
    "from sklearn.model_selection import train_test_split\n",
    "seoul_train_y = seoul_train[\"New_target\"].values\n",
    "#seoul_train_X = seoul_train[features]\n",
    "seoul_train_X = seoul_train.drop(features_drop, axis = 1)\n",
    "\n",
    "st_X_train, st_X_test, st_y_train, st_y_test = train_test_split(seoul_train_X, seoul_train_y, test_size=0.3, random_state=42)\n",
    "\n",
    "st_min = st_X_test['#security#']\n",
    "st_ham = st_X_test['#security#']\n",
    "\n",
    "st_X_train = st_X_train.drop(['#security#', '#security#'], axis = 1)\n",
    "st_X_test = st_X_test.drop(['#security#', '#security#'], axis = 1)"
   ]
  },
  {
   "cell_type": "code",
   "execution_count": 32,
   "metadata": {},
   "outputs": [],
   "source": [
    "features_drop = [#security#']"
   ]
  },
  {
   "cell_type": "code",
   "execution_count": 33,
   "metadata": {},
   "outputs": [],
   "source": [
    "#seoul_test_X = seoul_test[features]\n",
    "seoul_test_X = seoul_test.drop(features_drop, axis = 1)"
   ]
  },
  {
   "cell_type": "code",
   "execution_count": 34,
   "metadata": {},
   "outputs": [],
   "source": [
    "#busan_test_X = busan_test[features]\n",
    "busan_test_X = busan_test.drop(features_drop, axis = 1)"
   ]
  },
  {
   "cell_type": "code",
   "execution_count": 7,
   "metadata": {},
   "outputs": [],
   "source": [
    "#busan_test_X.columns"
   ]
  },
  {
   "cell_type": "code",
   "execution_count": 36,
   "metadata": {},
   "outputs": [
    {
     "data": {
      "text/plain": [
       "XGBRegressor(base_score=0.5, booster='gbtree', colsample_bylevel=1,\n",
       "       colsample_bytree=1, gamma=0, learning_rate=0.1, max_delta_step=0,\n",
       "       max_depth=3, min_child_weight=1, missing=None, n_estimators=100,\n",
       "       n_jobs=-1, nthread=None, objective='reg:linear', random_state=0,\n",
       "       reg_alpha=0, reg_lambda=1, scale_pos_weight=1, seed=None,\n",
       "       silent=True, subsample=1)"
      ]
     },
     "execution_count": 36,
     "metadata": {},
     "output_type": "execute_result"
    }
   ],
   "source": [
    "from xgboost import XGBRegressor\n",
    "\n",
    "xg_rg1 = XGBRegressor(n_jobs= -1)\n",
    "xg_rg1"
   ]
  },
  {
   "cell_type": "code",
   "execution_count": 37,
   "metadata": {},
   "outputs": [],
   "source": [
    "# from sklearn.model_selection import GridSearchCV\n",
    "# from sklearn.pipeline import Pipeline\n",
    "# from sklearn.preprocessing import StandardScaler\n",
    "\n",
    "# xg_rg1_pipe = Pipeline([\n",
    "#             #(\"scaler\", StandardScaler()),\n",
    "#             (\"xg_rg1\", xg_rg1),\n",
    "# ])\n",
    "\n",
    "# param_grid = [\n",
    "#         {'xg_rg1__base_score': [0.5,0.55,0.6,0.65,0.7],\n",
    "#          'xg_rg1__max_depth': [2,3,4,5], \n",
    "#          'xg_rg1__n_estimators' : [10,50,70,100],\n",
    "#          'xg_rg1__booster' : ['gbtree', 'gblinear'],\n",
    "#          #'xg_rg2__gamma' : [0, 0.1, 0.2, 0.5, 1],\n",
    "#          'xg_rg1__learning_rate' : [0.5, 0.3, 0.2, 0.1, 0.01, 0.001]\n",
    "#         },\n",
    "#     ]\n",
    "\n",
    "# xg_grid_search = GridSearchCV(xg_rg1_pipe, param_grid, cv=5,\n",
    "#                           scoring=\"neg_mean_squared_error\")\n",
    "\n",
    "# xg_grid_search.fit(seoul_train_X,seoul_train_y)\n",
    "\n",
    "# cvres = xg_grid_search.cv_results_\n",
    "\n",
    "# for acc, params in zip(cvres[\"mean_test_score\"], cvres[\"params\"]):\n",
    "#     print(acc, params)\n",
    "\n",
    "# print (xg_grid_search.best_params_)\n",
    "# print (xg_grid_search.best_score_)"
   ]
  },
  {
   "cell_type": "code",
   "execution_count": 38,
   "metadata": {},
   "outputs": [
    {
     "data": {
      "text/plain": [
       "XGBRegressor(base_score=0.5, booster='gbtree', colsample_bylevel=1,\n",
       "       colsample_bytree=1, gamma=0, learning_rate=0.1, max_delta_step=0,\n",
       "       max_depth=3, min_child_weight=1, missing=None, n_estimators=100,\n",
       "       n_jobs=-1, nthread=None, objective='reg:linear', random_state=0,\n",
       "       reg_alpha=0, reg_lambda=1, scale_pos_weight=1, seed=None,\n",
       "       silent=True, subsample=1)"
      ]
     },
     "execution_count": 38,
     "metadata": {},
     "output_type": "execute_result"
    }
   ],
   "source": [
    "from xgboost import XGBRegressor\n",
    "\n",
    "xg_rg2 = XGBRegressor(n_jobs= -1)\n",
    "xg_rg2"
   ]
  },
  {
   "cell_type": "code",
   "execution_count": 39,
   "metadata": {},
   "outputs": [],
   "source": [
    "# from sklearn.model_selection import GridSearchCV\n",
    "# from sklearn.pipeline import Pipeline\n",
    "# from sklearn.preprocessing import StandardScaler\n",
    "\n",
    "# xg_rg2_pipe = Pipeline([\n",
    "#             #(\"scaler\", StandardScaler()),\n",
    "#             (\"xg_rg2\", xg_rg2),\n",
    "# ])\n",
    "\n",
    "# param_grid = [\n",
    "#         {'xg_rg2__base_score': [0.5,0.55,0.6,0.65,0.7],\n",
    "#          'xg_rg2__max_depth': [2,3,4,5], \n",
    "#          'xg_rg2__n_estimators' : [10,50,70,100],\n",
    "#          'xg_rg2__booster' : ['gbtree', 'gblinear'],\n",
    "#          #'xg_rg2__gamma' : [0, 0.1, 0.2, 0.5, 1],\n",
    "#          'xg_rg2__learning_rate' : [0.5, 0.3, 0.2, 0.1, 0.01, 0.001]\n",
    "#         },\n",
    "#     ]\n",
    "\n",
    "# xg_grid_search = GridSearchCV(xg_rg2_pipe, param_grid, cv=5,\n",
    "#                           scoring=\"neg_mean_squared_error\")\n",
    "\n",
    "# xg_grid_search.fit(busan_train_X, busan_train_y)\n",
    "\n",
    "# cvres = xg_grid_search.cv_results_\n",
    "\n",
    "# for acc, params in zip(cvres[\"mean_test_score\"], cvres[\"params\"]):\n",
    "#     print(acc, params)\n",
    "\n",
    "# print (xg_grid_search.best_params_)\n",
    "# print (xg_grid_search.best_score_)"
   ]
  },
  {
   "cell_type": "code",
   "execution_count": 40,
   "metadata": {},
   "outputs": [
    {
     "data": {
      "text/plain": [
       "XGBRegressor(base_score=0.65, booster='gbtree', colsample_bylevel=1,\n",
       "       colsample_bytree=1, gamma=0, learning_rate=0.2, max_delta_step=0,\n",
       "       max_depth=6, min_child_weight=1, missing=None, n_estimators=500,\n",
       "       n_jobs=-1, nthread=None, objective='reg:linear', random_state=0,\n",
       "       reg_alpha=0, reg_lambda=1, scale_pos_weight=1, seed=None,\n",
       "       silent=True, subsample=1)"
      ]
     },
     "execution_count": 40,
     "metadata": {},
     "output_type": "execute_result"
    }
   ],
   "source": [
    "xg_rg1 = XGBRegressor(n_jobs= -1, base_score= 0.65, booster= 'gbtree',learning_rate= 0.2, max_depth= 6, n_estimators=500)\n",
    "xg_rg1"
   ]
  },
  {
   "cell_type": "code",
   "execution_count": 41,
   "metadata": {},
   "outputs": [
    {
     "data": {
      "text/plain": [
       "XGBRegressor(base_score=0.7, booster='gbtree', colsample_bylevel=1,\n",
       "       colsample_bytree=1, gamma=0, learning_rate=0.2, max_delta_step=0,\n",
       "       max_depth=4, min_child_weight=1, missing=None, n_estimators=500,\n",
       "       n_jobs=-1, nthread=None, objective='reg:linear', random_state=0,\n",
       "       reg_alpha=0, reg_lambda=1, scale_pos_weight=1, seed=None,\n",
       "       silent=True, subsample=1)"
      ]
     },
     "execution_count": 41,
     "metadata": {},
     "output_type": "execute_result"
    }
   ],
   "source": [
    "xg_rg2 = XGBRegressor(n_jobs= -1, base_score= 0.7, booster= 'gbtree', learning_rate= 0.2, max_depth= 4, n_estimators= 500)\n",
    "xg_rg2"
   ]
  },
  {
   "cell_type": "code",
   "execution_count": 42,
   "metadata": {},
   "outputs": [
    {
     "data": {
      "text/plain": [
       "XGBRegressor(base_score=0.65, booster='gbtree', colsample_bylevel=1,\n",
       "       colsample_bytree=1, gamma=0, learning_rate=0.2, max_delta_step=0,\n",
       "       max_depth=6, min_child_weight=1, missing=None, n_estimators=500,\n",
       "       n_jobs=-1, nthread=None, objective='reg:linear', random_state=0,\n",
       "       reg_alpha=0, reg_lambda=1, scale_pos_weight=1, seed=None,\n",
       "       silent=True, subsample=1)"
      ]
     },
     "execution_count": 42,
     "metadata": {},
     "output_type": "execute_result"
    }
   ],
   "source": [
    "xg_rg1.fit(st_X_train, st_y_train)"
   ]
  },
  {
   "cell_type": "code",
   "execution_count": 43,
   "metadata": {},
   "outputs": [
    {
     "data": {
      "text/plain": [
       "XGBRegressor(base_score=0.7, booster='gbtree', colsample_bylevel=1,\n",
       "       colsample_bytree=1, gamma=0, learning_rate=0.2, max_delta_step=0,\n",
       "       max_depth=4, min_child_weight=1, missing=None, n_estimators=500,\n",
       "       n_jobs=-1, nthread=None, objective='reg:linear', random_state=0,\n",
       "       reg_alpha=0, reg_lambda=1, scale_pos_weight=1, seed=None,\n",
       "       silent=True, subsample=1)"
      ]
     },
     "execution_count": 43,
     "metadata": {},
     "output_type": "execute_result"
    }
   ],
   "source": [
    "xg_rg2.fit(bt_X_train, bt_y_train)"
   ]
  },
  {
   "cell_type": "code",
   "execution_count": 44,
   "metadata": {},
   "outputs": [
    {
     "data": {
      "text/plain": [
       "75687406.94432682"
      ]
     },
     "execution_count": 44,
     "metadata": {},
     "output_type": "execute_result"
    }
   ],
   "source": [
    "margin = xg_rg1.predict(st_X_test)\n",
    "Full_predict_value1 = margin+ st_min\n",
    "from sklearn.metrics import mean_squared_error\n",
    "mean_squared_error(Full_predict_value1, st_ham)**0.5"
   ]
  },
  {
   "cell_type": "code",
   "execution_count": 45,
   "metadata": {},
   "outputs": [
    {
     "data": {
      "text/plain": [
       "25327115.729617085"
      ]
     },
     "execution_count": 45,
     "metadata": {},
     "output_type": "execute_result"
    }
   ],
   "source": [
    "margin = xg_rg2.predict(bt_X_test)\n",
    "Full_predict_value2 = margin+ bt_min\n",
    "from sklearn.metrics import mean_squared_error\n",
    "mean_squared_error(Full_predict_value2, bt_ham)**0.5"
   ]
  },
  {
   "cell_type": "code",
   "execution_count": 46,
   "metadata": {},
   "outputs": [],
   "source": [
    "### lgb"
   ]
  },
  {
   "cell_type": "code",
   "execution_count": 47,
   "metadata": {},
   "outputs": [
    {
     "data": {
      "text/plain": [
       "LGBMRegressor(boosting_type='gbdt', class_weight=None, colsample_bytree=1.0,\n",
       "       importance_type='split', learning_rate=0.1, max_depth=-1,\n",
       "       min_child_samples=20, min_child_weight=0.001, min_split_gain=0.0,\n",
       "       n_estimators=100, n_jobs=-1, num_leaves=31, objective=None,\n",
       "       random_state=None, reg_alpha=0.0, reg_lambda=0.0, silent=True,\n",
       "       subsample=1.0, subsample_for_bin=200000, subsample_freq=0)"
      ]
     },
     "execution_count": 47,
     "metadata": {},
     "output_type": "execute_result"
    }
   ],
   "source": [
    "import lightgbm as lgb\n",
    "\n",
    "lgb_rg1 = lgb.LGBMRegressor(n_jobs=-1)\n",
    "lgb_rg1"
   ]
  },
  {
   "cell_type": "code",
   "execution_count": 48,
   "metadata": {},
   "outputs": [
    {
     "data": {
      "text/plain": [
       "LGBMRegressor(boosting_type='gbdt', class_weight=None, colsample_bytree=1.0,\n",
       "       importance_type='split', learning_rate=0.1, max_depth=-1,\n",
       "       min_child_samples=20, min_child_weight=0.001, min_split_gain=0.0,\n",
       "       n_estimators=100, n_jobs=-1, num_leaves=31, objective=None,\n",
       "       random_state=None, reg_alpha=0.0, reg_lambda=0.0, silent=True,\n",
       "       subsample=1.0, subsample_for_bin=200000, subsample_freq=0)"
      ]
     },
     "execution_count": 48,
     "metadata": {},
     "output_type": "execute_result"
    }
   ],
   "source": [
    "import lightgbm as lgb\n",
    "\n",
    "lgb_rg2 = lgb.LGBMRegressor(n_jobs=-1)\n",
    "lgb_rg2"
   ]
  },
  {
   "cell_type": "code",
   "execution_count": 49,
   "metadata": {
    "scrolled": true
   },
   "outputs": [],
   "source": [
    "# from sklearn.model_selection import GridSearchCV\n",
    "# from sklearn.pipeline import Pipeline\n",
    "# from sklearn.preprocessing import StandardScaler\n",
    "\n",
    "# lgb_rg1_pipe = Pipeline([\n",
    "#             #(\"scaler\", StandardScaler()),\n",
    "#             (\"lgb_rg1\", lgb_rg1),\n",
    "# ])\n",
    "\n",
    "# param_grid = [\n",
    "#         {'lgb_rg1__boosting_type': ['gbdt', 'dart'],\n",
    "#          'lgb_rg1__max_bin' : [2,5,10,50, 100],\n",
    "#          'lgb_rg1__learning_rate' : [0.3, 0.5, 0.1, 0.01],\n",
    "#          'lgb_rg1__num_leaves' : [10, 20, 50, 100, 200]\n",
    "#         },\n",
    "#     ]\n",
    "\n",
    "# lgb_grid_search = GridSearchCV(lgb_rg1_pipe, param_grid, cv=5,\n",
    "#                           scoring=\"neg_mean_squared_error\")\n",
    "\n",
    "# lgb_grid_search.fit(seoul_train_X, seoul_train_y)\n",
    "\n",
    "# cvres = lgb_grid_search.cv_results_\n",
    "\n",
    "# for acc, params in zip(cvres[\"mean_test_score\"], cvres[\"params\"]):\n",
    "#     print(acc, params)\n",
    "\n",
    "# print (lgb_grid_search.best_params_)\n",
    "# print (lgb_grid_search.best_score_)"
   ]
  },
  {
   "cell_type": "code",
   "execution_count": 50,
   "metadata": {
    "scrolled": true
   },
   "outputs": [],
   "source": [
    "# from sklearn.model_selection import GridSearchCV\n",
    "# from sklearn.pipeline import Pipeline\n",
    "# from sklearn.preprocessing import StandardScaler\n",
    "\n",
    "# lgb_rg2_pipe = Pipeline([\n",
    "#             #(\"scaler\", StandardScaler()),\n",
    "#             (\"lgb_rg2\", lgb_rg2),\n",
    "# ])\n",
    "\n",
    "# param_grid = [\n",
    "#         {'lgb_rg2__boosting_type': ['gbdt', 'dart'],\n",
    "#          'lgb_rg2__max_bin' : [2,5,10,50, 100],\n",
    "#          'lgb_rg2__learning_rate' : [0.3, 0.5, 0.1, 0.01],\n",
    "#          'lgb_rg2__num_leaves' : [10, 20, 50, 100, 200]\n",
    "#         },\n",
    "#     ]\n",
    "\n",
    "# lgb_grid_search = GridSearchCV(lgb_rg2_pipe, param_grid, cv=5,\n",
    "#                           scoring=\"neg_mean_squared_error\")\n",
    "\n",
    "# lgb_grid_search.fit(busan_train_X, busan_train_y)\n",
    "\n",
    "# cvres = lgb_grid_search.cv_results_\n",
    "\n",
    "# for acc, params in zip(cvres[\"mean_test_score\"], cvres[\"params\"]):\n",
    "#     print(acc, params)\n",
    "\n",
    "# print (lgb_grid_search.best_params_)\n",
    "# print (lgb_grid_search.best_score_)"
   ]
  },
  {
   "cell_type": "code",
   "execution_count": 51,
   "metadata": {},
   "outputs": [
    {
     "data": {
      "text/plain": [
       "LGBMRegressor(boosting_type='dart', class_weight=None, colsample_bytree=1.0,\n",
       "       importance_type='split', learning_rate=0.1, max_bin=1000,\n",
       "       max_depth=-1, min_child_samples=20, min_child_weight=0.001,\n",
       "       min_split_gain=0.0, n_estimators=1000, n_jobs=-1,\n",
       "       num_iterations=1000, num_leaves=50, objective=None,\n",
       "       random_state=None, reg_alpha=0.0, reg_lambda=0.0, silent=True,\n",
       "       subsample=1.0, subsample_for_bin=200000, subsample_freq=0)"
      ]
     },
     "execution_count": 51,
     "metadata": {},
     "output_type": "execute_result"
    }
   ],
   "source": [
    "lgb_rg1 = lgb.LGBMRegressor(n_jobs=-1, boosting_type= 'dart', learning_rate= 0.1, max_bin = 1000, num_leaves= 50,\n",
    "                            num_iterations=1000, n_estimators=1000)\n",
    "lgb_rg1"
   ]
  },
  {
   "cell_type": "code",
   "execution_count": 52,
   "metadata": {},
   "outputs": [
    {
     "data": {
      "text/plain": [
       "LGBMRegressor(boosting_type='dart', class_weight=None, colsample_bytree=1.0,\n",
       "       importance_type='split', learning_rate=0.1, max_bin=1000,\n",
       "       max_depth=-1, min_child_samples=20, min_child_weight=0.001,\n",
       "       min_split_gain=0.0, n_estimators=1000, n_jobs=-1,\n",
       "       num_iterations=1000, num_leaves=50, objective=None,\n",
       "       random_state=None, reg_alpha=0.0, reg_lambda=0.0, silent=True,\n",
       "       subsample=1.0, subsample_for_bin=200000, subsample_freq=0)"
      ]
     },
     "execution_count": 52,
     "metadata": {},
     "output_type": "execute_result"
    }
   ],
   "source": [
    "lgb_rg2 = lgb.LGBMRegressor(n_jobs=-1, boosting_type= 'dart', learning_rate= 0.1, max_bin = 1000, num_leaves= 50,\n",
    "                            num_iterations=1000, n_estimators=1000)\n",
    "lgb_rg2"
   ]
  },
  {
   "cell_type": "code",
   "execution_count": 53,
   "metadata": {},
   "outputs": [
    {
     "name": "stderr",
     "output_type": "stream",
     "text": [
      "C:\\Users\\pioo0\\AppData\\Roaming\\Python\\Python36\\site-packages\\lightgbm\\engine.py:116: UserWarning: Found `num_iterations` in params. Will use it instead of argument\n",
      "  warnings.warn(\"Found `{}` in params. Will use it instead of argument\".format(alias))\n"
     ]
    },
    {
     "data": {
      "text/plain": [
       "LGBMRegressor(boosting_type='dart', class_weight=None, colsample_bytree=1.0,\n",
       "       importance_type='split', learning_rate=0.1, max_bin=1000,\n",
       "       max_depth=-1, min_child_samples=20, min_child_weight=0.001,\n",
       "       min_split_gain=0.0, n_estimators=1000, n_jobs=-1,\n",
       "       num_iterations=1000, num_leaves=50, objective=None,\n",
       "       random_state=None, reg_alpha=0.0, reg_lambda=0.0, silent=True,\n",
       "       subsample=1.0, subsample_for_bin=200000, subsample_freq=0)"
      ]
     },
     "execution_count": 53,
     "metadata": {},
     "output_type": "execute_result"
    }
   ],
   "source": [
    "lgb_rg1.fit(st_X_train, st_y_train)"
   ]
  },
  {
   "cell_type": "code",
   "execution_count": 54,
   "metadata": {},
   "outputs": [
    {
     "name": "stderr",
     "output_type": "stream",
     "text": [
      "C:\\Users\\pioo0\\AppData\\Roaming\\Python\\Python36\\site-packages\\lightgbm\\engine.py:116: UserWarning: Found `num_iterations` in params. Will use it instead of argument\n",
      "  warnings.warn(\"Found `{}` in params. Will use it instead of argument\".format(alias))\n"
     ]
    },
    {
     "data": {
      "text/plain": [
       "LGBMRegressor(boosting_type='dart', class_weight=None, colsample_bytree=1.0,\n",
       "       importance_type='split', learning_rate=0.1, max_bin=1000,\n",
       "       max_depth=-1, min_child_samples=20, min_child_weight=0.001,\n",
       "       min_split_gain=0.0, n_estimators=1000, n_jobs=-1,\n",
       "       num_iterations=1000, num_leaves=50, objective=None,\n",
       "       random_state=None, reg_alpha=0.0, reg_lambda=0.0, silent=True,\n",
       "       subsample=1.0, subsample_for_bin=200000, subsample_freq=0)"
      ]
     },
     "execution_count": 54,
     "metadata": {},
     "output_type": "execute_result"
    }
   ],
   "source": [
    "lgb_rg2.fit(bt_X_train, bt_y_train)"
   ]
  },
  {
   "cell_type": "code",
   "execution_count": 55,
   "metadata": {},
   "outputs": [
    {
     "data": {
      "text/plain": [
       "75939858.54981346"
      ]
     },
     "execution_count": 55,
     "metadata": {},
     "output_type": "execute_result"
    }
   ],
   "source": [
    "margin = lgb_rg1.predict(st_X_test)\n",
    "Full_predict_value1 = margin+ st_min\n",
    "from sklearn.metrics import mean_squared_error\n",
    "mean_squared_error(Full_predict_value1, st_ham)**0.5"
   ]
  },
  {
   "cell_type": "code",
   "execution_count": 56,
   "metadata": {},
   "outputs": [
    {
     "data": {
      "text/plain": [
       "24920455.419489603"
      ]
     },
     "execution_count": 56,
     "metadata": {},
     "output_type": "execute_result"
    }
   ],
   "source": [
    "margin = lgb_rg2.predict(bt_X_test)\n",
    "Full_predict_value2 = margin+ bt_min\n",
    "from sklearn.metrics import mean_squared_error\n",
    "mean_squared_error(Full_predict_value2, bt_ham)**0.5"
   ]
  },
  {
   "cell_type": "code",
   "execution_count": 110,
   "metadata": {},
   "outputs": [
    {
     "data": {
      "text/plain": [
       "RandomForestRegressor(bootstrap=True, criterion='mse', max_depth=3,\n",
       "           max_features='auto', max_leaf_nodes=None,\n",
       "           min_impurity_decrease=0.0, min_impurity_split=None,\n",
       "           min_samples_leaf=1, min_samples_split=2,\n",
       "           min_weight_fraction_leaf=0.0, n_estimators='warn', n_jobs=-1,\n",
       "           oob_score=False, random_state=None, verbose=0, warm_start=False)"
      ]
     },
     "execution_count": 110,
     "metadata": {},
     "output_type": "execute_result"
    }
   ],
   "source": [
    "from sklearn.ensemble import RandomForestRegressor\n",
    "rf_rg1 = RandomForestRegressor(n_jobs= - 1, max_depth = 3)\n",
    "rf_rg1"
   ]
  },
  {
   "cell_type": "code",
   "execution_count": 111,
   "metadata": {},
   "outputs": [
    {
     "name": "stderr",
     "output_type": "stream",
     "text": [
      "C:\\Users\\pioo0\\AppData\\Roaming\\Python\\Python36\\site-packages\\sklearn\\ensemble\\forest.py:248: FutureWarning: The default value of n_estimators will change from 10 in version 0.20 to 100 in 0.22.\n",
      "  \"10 in version 0.20 to 100 in 0.22.\", FutureWarning)\n"
     ]
    },
    {
     "data": {
      "text/plain": [
       "RandomForestRegressor(bootstrap=True, criterion='mse', max_depth=3,\n",
       "           max_features='auto', max_leaf_nodes=None,\n",
       "           min_impurity_decrease=0.0, min_impurity_split=None,\n",
       "           min_samples_leaf=1, min_samples_split=2,\n",
       "           min_weight_fraction_leaf=0.0, n_estimators=10, n_jobs=-1,\n",
       "           oob_score=False, random_state=None, verbose=0, warm_start=False)"
      ]
     },
     "execution_count": 111,
     "metadata": {},
     "output_type": "execute_result"
    }
   ],
   "source": [
    "rf_rg1.fit(st_X_train, st_y_train)"
   ]
  },
  {
   "cell_type": "code",
   "execution_count": 112,
   "metadata": {},
   "outputs": [
    {
     "data": {
      "text/plain": [
       "68568383.39869015"
      ]
     },
     "execution_count": 112,
     "metadata": {},
     "output_type": "execute_result"
    }
   ],
   "source": [
    "margin = rf_rg1.predict(st_X_test)\n",
    "Full_predict_value1 = margin+ st_min\n",
    "from sklearn.metrics import mean_squared_error\n",
    "mean_squared_error(Full_predict_value1, st_ham)**0.5"
   ]
  },
  {
   "cell_type": "code",
   "execution_count": 136,
   "metadata": {},
   "outputs": [
    {
     "data": {
      "text/plain": [
       "LinearSVR(C=1.0, dual=True, epsilon=0.0, fit_intercept=True,\n",
       "     intercept_scaling=1.0, loss='epsilon_insensitive', max_iter=1000,\n",
       "     random_state=None, tol=0.0001, verbose=0)"
      ]
     },
     "execution_count": 136,
     "metadata": {},
     "output_type": "execute_result"
    }
   ],
   "source": [
    "from sklearn.svm import LinearSVR\n",
    "hu = LinearSVR()\n",
    "hu"
   ]
  },
  {
   "cell_type": "code",
   "execution_count": 137,
   "metadata": {},
   "outputs": [
    {
     "name": "stderr",
     "output_type": "stream",
     "text": [
      "C:\\Users\\pioo0\\AppData\\Roaming\\Python\\Python36\\site-packages\\sklearn\\svm\\base.py:922: ConvergenceWarning: Liblinear failed to converge, increase the number of iterations.\n",
      "  \"the number of iterations.\", ConvergenceWarning)\n"
     ]
    },
    {
     "data": {
      "text/plain": [
       "LinearSVR(C=1.0, dual=True, epsilon=0.0, fit_intercept=True,\n",
       "     intercept_scaling=1.0, loss='epsilon_insensitive', max_iter=1000,\n",
       "     random_state=None, tol=0.0001, verbose=0)"
      ]
     },
     "execution_count": 137,
     "metadata": {},
     "output_type": "execute_result"
    }
   ],
   "source": [
    "hu.fit(st_X_train, st_y_train)"
   ]
  },
  {
   "cell_type": "code",
   "execution_count": 138,
   "metadata": {},
   "outputs": [
    {
     "data": {
      "text/plain": [
       "79725611.03976181"
      ]
     },
     "execution_count": 138,
     "metadata": {},
     "output_type": "execute_result"
    }
   ],
   "source": [
    "margin = hu.predict(st_X_test)\n",
    "Full_predict_value1 = margin+ st_min\n",
    "from sklearn.metrics import mean_squared_error\n",
    "mean_squared_error(Full_predict_value1, st_ham)**0.5"
   ]
  },
  {
   "cell_type": "code",
   "execution_count": 200,
   "metadata": {},
   "outputs": [],
   "source": [
    "from keras.models import Model, Sequential\n",
    "from keras.layers import Input, Dense , BatchNormalization, Activation\n",
    "from keras.optimizers import Adam\n",
    "from keras.utils import plot_model\n",
    "\n",
    "from IPython.display import Image"
   ]
  },
  {
   "cell_type": "code",
   "execution_count": 241,
   "metadata": {},
   "outputs": [
    {
     "name": "stdout",
     "output_type": "stream",
     "text": [
      "_________________________________________________________________\n",
      "Layer (type)                 Output Shape              Param #   \n",
      "=================================================================\n",
      "dense_75 (Dense)             (None, 80)                400       \n",
      "_________________________________________________________________\n",
      "batch_normalization_14 (Batc (None, 80)                320       \n",
      "_________________________________________________________________\n",
      "activation_26 (Activation)   (None, 80)                0         \n",
      "_________________________________________________________________\n",
      "dense_76 (Dense)             (None, 20)                1620      \n",
      "_________________________________________________________________\n",
      "activation_27 (Activation)   (None, 20)                0         \n",
      "_________________________________________________________________\n",
      "dense_77 (Dense)             (None, 1)                 21        \n",
      "=================================================================\n",
      "Total params: 2,361\n",
      "Trainable params: 2,201\n",
      "Non-trainable params: 160\n",
      "_________________________________________________________________\n"
     ]
    },
    {
     "data": {
      "image/png": "[encoded data removed]",
      "text/plain": [
       "<IPython.core.display.Image object>"
      ]
     },
     "execution_count": 241,
     "metadata": {},
     "output_type": "execute_result"
    }
   ],
   "source": [
    "model=Sequential()\n",
    "model.add(Dense(80, input_dim=st_X_train.shape[1]))\n",
    "model.add(BatchNormalization())\n",
    "model.add(Activation(activation= 'relu'))\n",
    "model.add(Dense(20))\n",
    "model.add(Activation(activation= 'relu'))\n",
    "model.add(Dense(1))\n",
    "\n",
    "model.compile(loss='mean_squared_error',\n",
    "              optimizer=Adam(lr=0.01), metrics=['mse'])\n",
    "\n",
    "model.summary()\n",
    "plot_model(model, show_shapes=True)\n",
    "Image('model.png')"
   ]
  },
  {
   "cell_type": "code",
   "execution_count": 242,
   "metadata": {
    "scrolled": true
   },
   "outputs": [
    {
     "name": "stdout",
     "output_type": "stream",
     "text": [
      "Train on 695 samples, validate on 174 samples\n",
      "Epoch 1/200\n",
      "695/695 [==============================] - 3s 5ms/step - loss: 13488715090336718.0000 - mean_squared_error: 13488715090336718.0000 - val_loss: 11498558657074330.0000 - val_mean_squared_error: 11498558657074330.0000\n",
      "Epoch 2/200\n",
      "695/695 [==============================] - 0s 515us/step - loss: 13488132716525022.0000 - mean_squared_error: 13488132716525022.0000 - val_loss: 11497130808772820.0000 - val_mean_squared_error: 11497130808772820.0000\n",
      "Epoch 3/200\n",
      "695/695 [==============================] - 0s 668us/step - loss: 13484864737900708.0000 - mean_squared_error: 13484864737900708.0000 - val_loss: 11491854916611296.0000 - val_mean_squared_error: 11491854916611296.0000\n",
      "Epoch 4/200\n",
      "695/695 [==============================] - 1s 722us/step - loss: 13474034370118244.0000 - mean_squared_error: 13474034370118244.0000 - val_loss: 11472691537731866.0000 - val_mean_squared_error: 11472691537731866.0000\n",
      "Epoch 5/200\n",
      "695/695 [==============================] - 1s 758us/step - loss: 13452578110723632.0000 - mean_squared_error: 13452578110723632.0000 - val_loss: 11444808770490416.0000 - val_mean_squared_error: 11444808770490416.0000\n",
      "Epoch 6/200\n",
      "695/695 [==============================] - 0s 678us/step - loss: 13399666323691130.0000 - mean_squared_error: 13399666323691130.0000 - val_loss: 11376425584756948.0000 - val_mean_squared_error: 11376425584756948.0000\n",
      "Epoch 7/200\n",
      "695/695 [==============================] - 0s 696us/step - loss: 13317080672112316.0000 - mean_squared_error: 13317080672112316.0000 - val_loss: 11296948998343244.0000 - val_mean_squared_error: 11296948998343244.0000\n",
      "Epoch 8/200\n",
      "695/695 [==============================] - 1s 783us/step - loss: 13217707551457800.0000 - mean_squared_error: 13217707551457800.0000 - val_loss: 11213574457587500.0000 - val_mean_squared_error: 11213574457587500.0000\n",
      "Epoch 9/200\n",
      "695/695 [==============================] - 1s 898us/step - loss: 13102698356907902.0000 - mean_squared_error: 13102698356907902.0000 - val_loss: 11100916172603580.0000 - val_mean_squared_error: 11100916172603580.0000\n",
      "Epoch 10/200\n",
      "695/695 [==============================] - 1s 950us/step - loss: 12949585961007620.0000 - mean_squared_error: 12949585961007620.0000 - val_loss: 10942377892999874.0000 - val_mean_squared_error: 10942377892999874.0000\n",
      "Epoch 11/200\n",
      "695/695 [==============================] - 1s 893us/step - loss: 12794172813504318.0000 - mean_squared_error: 12794172813504318.0000 - val_loss: 10824880710264010.0000 - val_mean_squared_error: 10824880710264010.0000\n",
      "Epoch 12/200\n",
      "695/695 [==============================] - 1s 824us/step - loss: 12635214462494146.0000 - mean_squared_error: 12635214462494146.0000 - val_loss: 10657912134942532.0000 - val_mean_squared_error: 10657912134942532.0000\n",
      "Epoch 13/200\n",
      "695/695 [==============================] - 0s 669us/step - loss: 12416878325345048.0000 - mean_squared_error: 12416878325345048.0000 - val_loss: 10476913311522534.0000 - val_mean_squared_error: 10476913311522534.0000\n",
      "Epoch 14/200\n",
      "695/695 [==============================] - 0s 583us/step - loss: 12199051288590992.0000 - mean_squared_error: 12199051288590992.0000 - val_loss: 10271617814912554.0000 - val_mean_squared_error: 10271617814912554.0000\n",
      "Epoch 15/200\n",
      "695/695 [==============================] - 1s 726us/step - loss: 11960120862629498.0000 - mean_squared_error: 11960120862629498.0000 - val_loss: 9991441461057794.0000 - val_mean_squared_error: 9991441461057794.0000\n",
      "Epoch 16/200\n",
      "695/695 [==============================] - 0s 603us/step - loss: 11652616039833140.0000 - mean_squared_error: 11652616039833140.0000 - val_loss: 9758817852738690.0000 - val_mean_squared_error: 9758817852738690.0000\n",
      "Epoch 17/200\n",
      "695/695 [==============================] - 0s 595us/step - loss: 11375842061640610.0000 - mean_squared_error: 11375842061640610.0000 - val_loss: 9481213829465758.0000 - val_mean_squared_error: 9481213829465758.0000\n",
      "Epoch 18/200\n",
      "695/695 [==============================] - 0s 584us/step - loss: 11071851762978728.0000 - mean_squared_error: 11071851762978728.0000 - val_loss: 9262092071020096.0000 - val_mean_squared_error: 9262092071020096.0000\n",
      "Epoch 19/200\n",
      "695/695 [==============================] - 0s 593us/step - loss: 10781326348816672.0000 - mean_squared_error: 10781326348816672.0000 - val_loss: 9078915649813586.0000 - val_mean_squared_error: 9078915649813586.0000\n",
      "Epoch 20/200\n",
      "695/695 [==============================] - 0s 661us/step - loss: 10466372058002558.0000 - mean_squared_error: 10466372058002558.0000 - val_loss: 8678005773600603.0000 - val_mean_squared_error: 8678005773600603.0000\n",
      "Epoch 21/200\n",
      "695/695 [==============================] - 0s 625us/step - loss: 10128169822210664.0000 - mean_squared_error: 10128169822210664.0000 - val_loss: 8520397653706587.0000 - val_mean_squared_error: 8520397653706587.0000\n",
      "Epoch 22/200\n",
      "695/695 [==============================] - 1s 747us/step - loss: 9848082754718878.0000 - mean_squared_error: 9848082754718878.0000 - val_loss: 8388762435237488.0000 - val_mean_squared_error: 8388762435237488.0000\n",
      "Epoch 23/200\n",
      "695/695 [==============================] - 0s 543us/step - loss: 9737677573149974.0000 - mean_squared_error: 9737677573149974.0000 - val_loss: 8161473278120360.0000 - val_mean_squared_error: 8161473278120360.0000\n",
      "Epoch 24/200\n",
      "695/695 [==============================] - 0s 686us/step - loss: 9406652884314410.0000 - mean_squared_error: 9406652884314410.0000 - val_loss: 7839169789995691.0000 - val_mean_squared_error: 7839169789995691.0000\n",
      "Epoch 25/200\n",
      "695/695 [==============================] - 0s 646us/step - loss: 9231325928017290.0000 - mean_squared_error: 9231325928017290.0000 - val_loss: 7868137170697110.0000 - val_mean_squared_error: 7868137170697110.0000\n",
      "Epoch 26/200\n",
      "695/695 [==============================] - 0s 627us/step - loss: 9107367071417594.0000 - mean_squared_error: 9107367071417594.0000 - val_loss: 7730010728567208.0000 - val_mean_squared_error: 7730010728567208.0000\n",
      "Epoch 27/200\n",
      "695/695 [==============================] - 1s 736us/step - loss: 8895962893295391.0000 - mean_squared_error: 8895962893295391.0000 - val_loss: 7434689746130261.0000 - val_mean_squared_error: 7434689746130261.0000\n",
      "Epoch 28/200\n",
      "695/695 [==============================] - 1s 803us/step - loss: 8590404501590941.0000 - mean_squared_error: 8590404501590941.0000 - val_loss: 7324046893062779.0000 - val_mean_squared_error: 7324046893062779.0000\n",
      "Epoch 29/200\n",
      "695/695 [==============================] - ETA: 0s - loss: 7818381676035489.0000 - mean_squared_error: 7818381676035489.00 - 1s 905us/step - loss: 8460175403020470.0000 - mean_squared_error: 8460175403020470.0000 - val_loss: 7304701487174997.0000 - val_mean_squared_error: 7304701487174997.0000\n",
      "Epoch 30/200\n",
      "695/695 [==============================] - 1s 842us/step - loss: 8438639599730758.0000 - mean_squared_error: 8438639599730758.0000 - val_loss: 7234775194051784.0000 - val_mean_squared_error: 7234775194051784.0000\n",
      "Epoch 31/200\n",
      "695/695 [==============================] - ETA: 0s - loss: 8265699135482666.0000 - mean_squared_error: 8265699135482666.00 - 1s 810us/step - loss: 8270664735813814.0000 - mean_squared_error: 8270664735813814.0000 - val_loss: 7223453559981915.0000 - val_mean_squared_error: 7223453559981915.0000\n",
      "Epoch 32/200\n",
      "695/695 [==============================] - 1s 747us/step - loss: 8246732084986775.0000 - mean_squared_error: 8246732084986775.0000 - val_loss: 7126220921562501.0000 - val_mean_squared_error: 7126220921562501.0000\n",
      "Epoch 33/200\n",
      "695/695 [==============================] - 1s 742us/step - loss: 8139919757018408.0000 - mean_squared_error: 8139919757018408.0000 - val_loss: 6993417306916511.0000 - val_mean_squared_error: 6993417306916511.0000\n",
      "Epoch 34/200\n",
      "695/695 [==============================] - 1s 729us/step - loss: 8040737084077959.0000 - mean_squared_error: 8040737084077959.0000 - val_loss: 7006071104389685.0000 - val_mean_squared_error: 7006071104389685.0000\n",
      "Epoch 35/200\n",
      "695/695 [==============================] - 1s 769us/step - loss: 7933763903887345.0000 - mean_squared_error: 7933763903887345.0000 - val_loss: 6920702006431038.0000 - val_mean_squared_error: 6920702006431038.0000\n",
      "Epoch 36/200\n",
      "695/695 [==============================] - 1s 776us/step - loss: 7839484711584758.0000 - mean_squared_error: 7839484711584758.0000 - val_loss: 7006945050012331.0000 - val_mean_squared_error: 7006945050012331.0000\n",
      "Epoch 37/200\n",
      "695/695 [==============================] - 1s 924us/step - loss: 7852431238142455.0000 - mean_squared_error: 7852431238142455.0000 - val_loss: 6898480519815639.0000 - val_mean_squared_error: 6898480519815639.0000\n",
      "Epoch 38/200\n",
      "695/695 [==============================] - 1s 826us/step - loss: 7753369594541558.0000 - mean_squared_error: 7753369594541558.0000 - val_loss: 6833388578011677.0000 - val_mean_squared_error: 6833388578011677.0000\n",
      "Epoch 39/200\n",
      "695/695 [==============================] - 1s 861us/step - loss: 7653394880289814.0000 - mean_squared_error: 7653394880289814.0000 - val_loss: 6897798629734000.0000 - val_mean_squared_error: 6897798629734000.0000\n",
      "Epoch 40/200\n",
      "695/695 [==============================] - 1s 930us/step - loss: 7670571037725998.0000 - mean_squared_error: 7670571037725998.0000 - val_loss: 6857792535905574.0000 - val_mean_squared_error: 6857792535905574.0000\n",
      "Epoch 41/200\n",
      "695/695 [==============================] - 1s 833us/step - loss: 7704397024054383.0000 - mean_squared_error: 7704397024054383.0000 - val_loss: 6841287198740527.0000 - val_mean_squared_error: 6841287198740527.0000\n",
      "Epoch 42/200\n",
      "695/695 [==============================] - 0s 702us/step - loss: 7770203830191353.0000 - mean_squared_error: 7770203830191353.0000 - val_loss: 6884912766723649.0000 - val_mean_squared_error: 6884912766723649.0000\n",
      "Epoch 43/200\n",
      "695/695 [==============================] - 0s 673us/step - loss: 7721740815763577.0000 - mean_squared_error: 7721740815763577.0000 - val_loss: 6909040960410777.0000 - val_mean_squared_error: 6909040960410777.0000\n",
      "Epoch 44/200\n",
      "695/695 [==============================] - 0s 674us/step - loss: 7722286369114186.0000 - mean_squared_error: 7722286369114186.0000 - val_loss: 6716729066629049.0000 - val_mean_squared_error: 6716729066629049.0000\n",
      "Epoch 45/200\n",
      "695/695 [==============================] - 0s 677us/step - loss: 7662395753258572.0000 - mean_squared_error: 7662395753258572.0000 - val_loss: 6929884803097235.0000 - val_mean_squared_error: 6929884803097235.0000\n",
      "Epoch 46/200\n",
      "695/695 [==============================] - 0s 663us/step - loss: 7769639282521685.0000 - mean_squared_error: 7769639282521685.0000 - val_loss: 6813063850157445.0000 - val_mean_squared_error: 6813063850157445.0000\n",
      "Epoch 47/200\n",
      "695/695 [==============================] - ETA: 0s - loss: 7657474437939200.0000 - mean_squared_error: 7657474437939200.00 - 0s 651us/step - loss: 7521799519695691.0000 - mean_squared_error: 7521799519695691.0000 - val_loss: 6673806595899957.0000 - val_mean_squared_error: 6673806595899957.0000\n",
      "Epoch 48/200\n",
      "695/695 [==============================] - 0s 654us/step - loss: 7467451470107690.0000 - mean_squared_error: 7467451470107690.0000 - val_loss: 6882955471138957.0000 - val_mean_squared_error: 6882955471138957.0000\n",
      "Epoch 49/200\n",
      "695/695 [==============================] - ETA: 0s - loss: 7610420677353366.0000 - mean_squared_error: 7610420677353366.00 - 0s 593us/step - loss: 7676218857922147.0000 - mean_squared_error: 7676218857922147.0000 - val_loss: 6846725042332307.0000 - val_mean_squared_error: 6846725042332307.0000\n",
      "Epoch 50/200\n",
      "695/695 [==============================] - 0s 668us/step - loss: 7504529676547291.0000 - mean_squared_error: 7504529676547291.0000 - val_loss: 6831465487120737.0000 - val_mean_squared_error: 6831465487120737.0000\n",
      "Epoch 51/200\n",
      "695/695 [==============================] - 0s 641us/step - loss: 7619574187354127.0000 - mean_squared_error: 7619574187354127.0000 - val_loss: 6839680353357306.0000 - val_mean_squared_error: 6839680353357306.0000\n",
      "Epoch 52/200\n",
      "695/695 [==============================] - 0s 621us/step - loss: 7428100764220897.0000 - mean_squared_error: 7428100764220897.0000 - val_loss: 6742746943334706.0000 - val_mean_squared_error: 6742746943334706.0000\n",
      "Epoch 53/200\n",
      "695/695 [==============================] - 0s 639us/step - loss: 7266475261501075.0000 - mean_squared_error: 7266475261501075.0000 - val_loss: 6674891609699010.0000 - val_mean_squared_error: 6674891609699010.0000\n",
      "Epoch 54/200\n",
      "695/695 [==============================] - 0s 627us/step - loss: 7444241483641462.0000 - mean_squared_error: 7444241483641462.0000 - val_loss: 6756163460045059.0000 - val_mean_squared_error: 6756163460045059.0000\n",
      "Epoch 55/200\n",
      "695/695 [==============================] - 0s 608us/step - loss: 7409546068666925.0000 - mean_squared_error: 7409546068666925.0000 - val_loss: 6765238033254613.0000 - val_mean_squared_error: 6765238033254613.0000\n",
      "Epoch 56/200\n",
      "695/695 [==============================] - 0s 648us/step - loss: 7345489080389543.0000 - mean_squared_error: 7345489080389543.0000 - val_loss: 6755008047504937.0000 - val_mean_squared_error: 6755008047504937.0000\n",
      "Epoch 57/200\n",
      "695/695 [==============================] - 0s 598us/step - loss: 7250434297910173.0000 - mean_squared_error: 7250434297910173.0000 - val_loss: 6701073940147047.0000 - val_mean_squared_error: 6701073940147047.0000\n",
      "Epoch 58/200\n",
      "695/695 [==============================] - 0s 651us/step - loss: 7305164737088268.0000 - mean_squared_error: 7305164737088268.0000 - val_loss: 6771841553957241.0000 - val_mean_squared_error: 6771841553957241.0000\n",
      "Epoch 59/200\n",
      "695/695 [==============================] - 0s 605us/step - loss: 7448571023493005.0000 - mean_squared_error: 7448571023493005.0000 - val_loss: 6786826451101249.0000 - val_mean_squared_error: 6786826451101249.0000\n",
      "Epoch 60/200\n",
      "695/695 [==============================] - 0s 617us/step - loss: 7386576770700260.0000 - mean_squared_error: 7386576770700260.0000 - val_loss: 6804135762484777.0000 - val_mean_squared_error: 6804135762484777.0000\n",
      "Epoch 61/200\n",
      "695/695 [==============================] - 0s 620us/step - loss: 7473441308553187.0000 - mean_squared_error: 7473441308553187.0000 - val_loss: 6760224572234175.0000 - val_mean_squared_error: 6760224572234175.0000\n",
      "Epoch 62/200\n",
      "695/695 [==============================] - 0s 643us/step - loss: 7434986917923691.0000 - mean_squared_error: 7434986917923691.0000 - val_loss: 6705116414584761.0000 - val_mean_squared_error: 6705116414584761.0000\n",
      "Epoch 63/200\n",
      "695/695 [==============================] - 0s 613us/step - loss: 7397442889257485.0000 - mean_squared_error: 7397442889257485.0000 - val_loss: 6401652205009249.0000 - val_mean_squared_error: 6401652205009249.0000\n",
      "Epoch 64/200\n",
      "695/695 [==============================] - 0s 627us/step - loss: 7100538998403844.0000 - mean_squared_error: 7100538998403844.0000 - val_loss: 6489944846632419.0000 - val_mean_squared_error: 6489944846632419.0000\n",
      "Epoch 65/200\n",
      "695/695 [==============================] - ETA: 0s - loss: 7154383877910376.0000 - mean_squared_error: 7154383877910376.00 - 0s 591us/step - loss: 6958732512386683.0000 - mean_squared_error: 6958732512386683.0000 - val_loss: 6402019711661303.0000 - val_mean_squared_error: 6402019711661303.0000\n",
      "Epoch 66/200\n",
      "695/695 [==============================] - 0s 617us/step - loss: 7091084476852969.0000 - mean_squared_error: 7091084476852969.0000 - val_loss: 6305062106964815.0000 - val_mean_squared_error: 6305062106964815.0000\n",
      "Epoch 67/200\n",
      "695/695 [==============================] - 0s 601us/step - loss: 6929870583984781.0000 - mean_squared_error: 6929870583984781.0000 - val_loss: 6465089133464329.0000 - val_mean_squared_error: 6465089133464329.0000\n",
      "Epoch 68/200\n",
      "695/695 [==============================] - 0s 667us/step - loss: 6982423528237778.0000 - mean_squared_error: 6982423528237778.0000 - val_loss: 6297978612867731.0000 - val_mean_squared_error: 6297978612867731.0000\n",
      "Epoch 69/200\n",
      "695/695 [==============================] - 0s 677us/step - loss: 6818043687420588.0000 - mean_squared_error: 6818043687420588.0000 - val_loss: 6316171646169794.0000 - val_mean_squared_error: 6316171646169794.0000\n",
      "Epoch 70/200\n",
      "695/695 [==============================] - 0s 612us/step - loss: 6881637952162809.0000 - mean_squared_error: 6881637952162809.0000 - val_loss: 6201062972809498.0000 - val_mean_squared_error: 6201062972809498.0000\n",
      "Epoch 71/200\n"
     ]
    },
    {
     "name": "stdout",
     "output_type": "stream",
     "text": [
      "695/695 [==============================] - ETA: 0s - loss: 6943854787022653.0000 - mean_squared_error: 6943854787022653.00 - 0s 652us/step - loss: 6803190950382325.0000 - mean_squared_error: 6803190950382325.0000 - val_loss: 6270239200187545.0000 - val_mean_squared_error: 6270239200187545.0000\n",
      "Epoch 72/200\n",
      "695/695 [==============================] - 0s 676us/step - loss: 6884404800800818.0000 - mean_squared_error: 6884404800800818.0000 - val_loss: 6250234148106758.0000 - val_mean_squared_error: 6250234148106758.0000\n",
      "Epoch 73/200\n",
      "695/695 [==============================] - 0s 656us/step - loss: 6809805592436040.0000 - mean_squared_error: 6809805592436040.0000 - val_loss: 6203455411524761.0000 - val_mean_squared_error: 6203455411524761.0000\n",
      "Epoch 74/200\n",
      "695/695 [==============================] - 0s 597us/step - loss: 6730021948939522.0000 - mean_squared_error: 6730021948939522.0000 - val_loss: 6142379931374368.0000 - val_mean_squared_error: 6142379931374368.0000\n",
      "Epoch 75/200\n",
      "695/695 [==============================] - 0s 657us/step - loss: 6682873189579786.0000 - mean_squared_error: 6682873189579786.0000 - val_loss: 6346501745634528.0000 - val_mean_squared_error: 6346501745634528.0000\n",
      "Epoch 76/200\n",
      "695/695 [==============================] - 0s 601us/step - loss: 6969138955696125.0000 - mean_squared_error: 6969138955696125.0000 - val_loss: 6402952962235569.0000 - val_mean_squared_error: 6402952962235569.0000\n",
      "Epoch 77/200\n",
      "695/695 [==============================] - 0s 627us/step - loss: 7077011174894879.0000 - mean_squared_error: 7077011174894879.0000 - val_loss: 6402983018521611.0000 - val_mean_squared_error: 6402983018521611.0000\n",
      "Epoch 78/200\n",
      "695/695 [==============================] - 0s 637us/step - loss: 6951942535245394.0000 - mean_squared_error: 6951942535245394.0000 - val_loss: 6368147220671523.0000 - val_mean_squared_error: 6368147220671523.0000\n",
      "Epoch 79/200\n",
      "695/695 [==============================] - 0s 637us/step - loss: 6913825003690276.0000 - mean_squared_error: 6913825003690276.0000 - val_loss: 6254462970746574.0000 - val_mean_squared_error: 6254462970746574.0000\n",
      "Epoch 80/200\n",
      "695/695 [==============================] - 0s 670us/step - loss: 6768080947660661.0000 - mean_squared_error: 6768080947660661.0000 - val_loss: 6331338151470280.0000 - val_mean_squared_error: 6331338151470280.0000\n",
      "Epoch 81/200\n",
      "695/695 [==============================] - 0s 604us/step - loss: 6790371216898281.0000 - mean_squared_error: 6790371216898281.0000 - val_loss: 6135577617246514.0000 - val_mean_squared_error: 6135577617246514.0000\n",
      "Epoch 82/200\n",
      "695/695 [==============================] - 0s 639us/step - loss: 6916084775241353.0000 - mean_squared_error: 6916084775241353.0000 - val_loss: 6112928735874554.0000 - val_mean_squared_error: 6112928735874554.0000\n",
      "Epoch 83/200\n",
      "695/695 [==============================] - 0s 631us/step - loss: 6804945936976276.0000 - mean_squared_error: 6804945936976276.0000 - val_loss: 5898276130795285.0000 - val_mean_squared_error: 5898276130795285.0000\n",
      "Epoch 84/200\n",
      "695/695 [==============================] - 0s 627us/step - loss: 6724952804904942.0000 - mean_squared_error: 6724952804904942.0000 - val_loss: 5883299265888069.0000 - val_mean_squared_error: 5883299265888069.0000\n",
      "Epoch 85/200\n",
      "695/695 [==============================] - 0s 616us/step - loss: 6630264432188155.0000 - mean_squared_error: 6630264432188155.0000 - val_loss: 5917969268589862.0000 - val_mean_squared_error: 5917969268589862.0000\n",
      "Epoch 86/200\n",
      "695/695 [==============================] - 0s 614us/step - loss: 6603506481192241.0000 - mean_squared_error: 6603506481192241.0000 - val_loss: 6071107321048475.0000 - val_mean_squared_error: 6071107321048475.0000\n",
      "Epoch 87/200\n",
      "695/695 [==============================] - 0s 592us/step - loss: 6778276482584157.0000 - mean_squared_error: 6778276482584157.0000 - val_loss: 6141418853762531.0000 - val_mean_squared_error: 6141418853762531.0000\n",
      "Epoch 88/200\n",
      "695/695 [==============================] - 0s 594us/step - loss: 6750767829819970.0000 - mean_squared_error: 6750767829819970.0000 - val_loss: 6062186299090685.0000 - val_mean_squared_error: 6062186299090685.0000\n",
      "Epoch 89/200\n",
      "695/695 [==============================] - 0s 624us/step - loss: 6479477848175340.0000 - mean_squared_error: 6479477848175340.0000 - val_loss: 6214995393925733.0000 - val_mean_squared_error: 6214995393925733.0000\n",
      "Epoch 90/200\n",
      "695/695 [==============================] - 0s 718us/step - loss: 6951658731762978.0000 - mean_squared_error: 6951658731762978.0000 - val_loss: 6261748443240142.0000 - val_mean_squared_error: 6261748443240142.0000\n",
      "Epoch 91/200\n",
      "695/695 [==============================] - 0s 702us/step - loss: 6737049404652366.0000 - mean_squared_error: 6737049404652366.0000 - val_loss: 6177110516410297.0000 - val_mean_squared_error: 6177110516410297.0000\n",
      "Epoch 92/200\n",
      "695/695 [==============================] - 0s 660us/step - loss: 6813849398001075.0000 - mean_squared_error: 6813849398001075.0000 - val_loss: 6054303726636726.0000 - val_mean_squared_error: 6054303726636726.0000\n",
      "Epoch 93/200\n",
      "695/695 [==============================] - 0s 645us/step - loss: 6732857067666277.0000 - mean_squared_error: 6732857067666277.0000 - val_loss: 5985164769361920.0000 - val_mean_squared_error: 5985164769361920.0000\n",
      "Epoch 94/200\n",
      "695/695 [==============================] - 0s 708us/step - loss: 6635428087518816.0000 - mean_squared_error: 6635428087518816.0000 - val_loss: 6097554181525174.0000 - val_mean_squared_error: 6097554181525174.0000\n",
      "Epoch 95/200\n",
      "695/695 [==============================] - 0s 664us/step - loss: 6485869899493441.0000 - mean_squared_error: 6485869899493441.0000 - val_loss: 6121434794414315.0000 - val_mean_squared_error: 6121434794414315.0000\n",
      "Epoch 96/200\n",
      "695/695 [==============================] - 0s 701us/step - loss: 6433945376547512.0000 - mean_squared_error: 6433945376547512.0000 - val_loss: 6024151968592390.0000 - val_mean_squared_error: 6024151968592390.0000\n",
      "Epoch 97/200\n",
      "695/695 [==============================] - 1s 724us/step - loss: 6584678496328491.0000 - mean_squared_error: 6584678496328491.0000 - val_loss: 6071666613263349.0000 - val_mean_squared_error: 6071666613263349.0000\n",
      "Epoch 98/200\n",
      "695/695 [==============================] - 0s 680us/step - loss: 6607710130608490.0000 - mean_squared_error: 6607710130608490.0000 - val_loss: 5985026489619232.0000 - val_mean_squared_error: 5985026489619232.0000\n",
      "Epoch 99/200\n",
      "695/695 [==============================] - 0s 642us/step - loss: 6478605984877537.0000 - mean_squared_error: 6478605984877537.0000 - val_loss: 5829970208191170.0000 - val_mean_squared_error: 5829970208191170.0000\n",
      "Epoch 100/200\n",
      "695/695 [==============================] - 0s 673us/step - loss: 6521651000317937.0000 - mean_squared_error: 6521651000317937.0000 - val_loss: 5920817248444887.0000 - val_mean_squared_error: 5920817248444887.0000\n",
      "Epoch 101/200\n",
      "695/695 [==============================] - 0s 664us/step - loss: 6268849485986072.0000 - mean_squared_error: 6268849485986072.0000 - val_loss: 6019455467364823.0000 - val_mean_squared_error: 6019455467364823.0000\n",
      "Epoch 102/200\n",
      "695/695 [==============================] - 0s 670us/step - loss: 6577670608691353.0000 - mean_squared_error: 6577670608691353.0000 - val_loss: 6035358398341026.0000 - val_mean_squared_error: 6035358398341026.0000\n",
      "Epoch 103/200\n",
      "695/695 [==============================] - 0s 632us/step - loss: 6677510675525248.0000 - mean_squared_error: 6677510675525248.0000 - val_loss: 5958291046371375.0000 - val_mean_squared_error: 5958291046371375.0000\n",
      "Epoch 104/200\n",
      "695/695 [==============================] - 0s 642us/step - loss: 6547742313295088.0000 - mean_squared_error: 6547742313295088.0000 - val_loss: 5797437510959669.0000 - val_mean_squared_error: 5797437510959669.0000\n",
      "Epoch 105/200\n",
      "695/695 [==============================] - 0s 622us/step - loss: 6596732806580368.0000 - mean_squared_error: 6596732806580368.0000 - val_loss: 5914538250009871.0000 - val_mean_squared_error: 5914538250009871.0000\n",
      "Epoch 106/200\n",
      "695/695 [==============================] - 0s 663us/step - loss: 6387190419340252.0000 - mean_squared_error: 6387190419340252.0000 - val_loss: 5911532431649451.0000 - val_mean_squared_error: 5911532431649451.0000\n"
     ]
    },
    {
     "name": "stdout",
     "output_type": "stream",
     "text": [
      "Epoch 107/200\n",
      "695/695 [==============================] - 0s 616us/step - loss: 6429963939160453.0000 - mean_squared_error: 6429963939160453.0000 - val_loss: 6017393424871189.0000 - val_mean_squared_error: 6017393424871189.0000\n",
      "Epoch 108/200\n",
      "695/695 [==============================] - 0s 696us/step - loss: 6501838813656119.0000 - mean_squared_error: 6501838813656119.0000 - val_loss: 5747624956965005.0000 - val_mean_squared_error: 5747624956965005.0000\n",
      "Epoch 109/200\n",
      "695/695 [==============================] - 0s 662us/step - loss: 6462586051176864.0000 - mean_squared_error: 6462586051176864.0000 - val_loss: 5914073534239897.0000 - val_mean_squared_error: 5914073534239897.0000\n",
      "Epoch 110/200\n",
      "695/695 [==============================] - 0s 683us/step - loss: 6346143515769324.0000 - mean_squared_error: 6346143515769324.0000 - val_loss: 5866805084993136.0000 - val_mean_squared_error: 5866805084993136.0000\n",
      "Epoch 111/200\n",
      "695/695 [==============================] - 0s 591us/step - loss: 6487197070458974.0000 - mean_squared_error: 6487197070458974.0000 - val_loss: 5839917671794335.0000 - val_mean_squared_error: 5839917671794335.0000\n",
      "Epoch 112/200\n",
      "695/695 [==============================] - 0s 642us/step - loss: 6319468592053070.0000 - mean_squared_error: 6319468592053070.0000 - val_loss: 5864935618712729.0000 - val_mean_squared_error: 5864935618712729.0000\n",
      "Epoch 113/200\n",
      "695/695 [==============================] - 0s 580us/step - loss: 6601381362852582.0000 - mean_squared_error: 6601381362852582.0000 - val_loss: 6178679618071399.0000 - val_mean_squared_error: 6178679618071399.0000\n",
      "Epoch 114/200\n",
      "695/695 [==============================] - 0s 634us/step - loss: 6616366681610956.0000 - mean_squared_error: 6616366681610956.0000 - val_loss: 6081781508082629.0000 - val_mean_squared_error: 6081781508082629.0000\n",
      "Epoch 115/200\n",
      "695/695 [==============================] - 0s 664us/step - loss: 6757717782616214.0000 - mean_squared_error: 6757717782616214.0000 - val_loss: 5886589714538967.0000 - val_mean_squared_error: 5886589714538967.0000\n",
      "Epoch 116/200\n",
      "695/695 [==============================] - 0s 667us/step - loss: 6782323417643123.0000 - mean_squared_error: 6782323417643123.0000 - val_loss: 6287641627048289.0000 - val_mean_squared_error: 6287641627048289.0000\n",
      "Epoch 117/200\n",
      "695/695 [==============================] - 0s 621us/step - loss: 6832584973669418.0000 - mean_squared_error: 6832584973669418.0000 - val_loss: 6217322484806150.0000 - val_mean_squared_error: 6217322484806150.0000\n",
      "Epoch 118/200\n",
      "695/695 [==============================] - 0s 673us/step - loss: 7076956017974718.0000 - mean_squared_error: 7076956017974718.0000 - val_loss: 6335247444896238.0000 - val_mean_squared_error: 6335247444896238.0000\n",
      "Epoch 119/200\n",
      "695/695 [==============================] - 0s 665us/step - loss: 7118567844735274.0000 - mean_squared_error: 7118567844735274.0000 - val_loss: 6295374506624483.0000 - val_mean_squared_error: 6295374506624483.0000\n",
      "Epoch 120/200\n",
      "695/695 [==============================] - 0s 613us/step - loss: 6984381625650475.0000 - mean_squared_error: 6984381625650475.0000 - val_loss: 6227037563526509.0000 - val_mean_squared_error: 6227037563526509.0000\n",
      "Epoch 121/200\n",
      "695/695 [==============================] - 0s 646us/step - loss: 6970406515837237.0000 - mean_squared_error: 6970406515837237.0000 - val_loss: 6223644529334907.0000 - val_mean_squared_error: 6223644529334907.0000\n",
      "Epoch 122/200\n",
      "695/695 [==============================] - 0s 594us/step - loss: 7094587594701433.0000 - mean_squared_error: 7094587594701433.0000 - val_loss: 6217715337010541.0000 - val_mean_squared_error: 6217715337010541.0000\n",
      "Epoch 123/200\n",
      "695/695 [==============================] - 0s 596us/step - loss: 6953277629112378.0000 - mean_squared_error: 6953277629112378.0000 - val_loss: 5298504743943062.0000 - val_mean_squared_error: 5298504743943062.0000\n",
      "Epoch 124/200\n",
      "695/695 [==============================] - 0s 591us/step - loss: 6491264560528465.0000 - mean_squared_error: 6491264560528465.0000 - val_loss: 5700188126178904.0000 - val_mean_squared_error: 5700188126178904.0000\n",
      "Epoch 125/200\n",
      "695/695 [==============================] - 0s 620us/step - loss: 6309428101972817.0000 - mean_squared_error: 6309428101972817.0000 - val_loss: 5938348467243408.0000 - val_mean_squared_error: 5938348467243408.0000\n",
      "Epoch 126/200\n",
      "695/695 [==============================] - 0s 636us/step - loss: 6572818675675483.0000 - mean_squared_error: 6572818675675483.0000 - val_loss: 5992756026094086.0000 - val_mean_squared_error: 5992756026094086.0000\n",
      "Epoch 127/200\n",
      "695/695 [==============================] - 0s 632us/step - loss: 6686721525466856.0000 - mean_squared_error: 6686721525466856.0000 - val_loss: 6264931720577966.0000 - val_mean_squared_error: 6264931720577966.0000\n",
      "Epoch 128/200\n",
      "695/695 [==============================] - 0s 629us/step - loss: 6862208313448693.0000 - mean_squared_error: 6862208313448693.0000 - val_loss: 6252377146259997.0000 - val_mean_squared_error: 6252377146259997.0000\n",
      "Epoch 129/200\n",
      "695/695 [==============================] - 0s 636us/step - loss: 6827734410446851.0000 - mean_squared_error: 6827734410446851.0000 - val_loss: 5763409493249153.0000 - val_mean_squared_error: 5763409493249153.0000\n",
      "Epoch 130/200\n",
      "695/695 [==============================] - 0s 664us/step - loss: 6859439069362196.0000 - mean_squared_error: 6859439069362196.0000 - val_loss: 6099640684814054.0000 - val_mean_squared_error: 6099640684814054.0000\n",
      "Epoch 131/200\n",
      "695/695 [==============================] - 0s 636us/step - loss: 6920184737117544.0000 - mean_squared_error: 6920184737117544.0000 - val_loss: 5673320827897880.0000 - val_mean_squared_error: 5673320827897880.0000\n",
      "Epoch 132/200\n",
      "695/695 [==============================] - 0s 640us/step - loss: 6804245672105875.0000 - mean_squared_error: 6804245672105875.0000 - val_loss: 5916027298509883.0000 - val_mean_squared_error: 5916027298509883.0000\n",
      "Epoch 133/200\n",
      "695/695 [==============================] - 0s 626us/step - loss: 6628378956994734.0000 - mean_squared_error: 6628378956994734.0000 - val_loss: 5885133303316480.0000 - val_mean_squared_error: 5885133303316480.0000\n",
      "Epoch 134/200\n",
      "695/695 [==============================] - 0s 641us/step - loss: 6593726725174068.0000 - mean_squared_error: 6593726725174068.0000 - val_loss: 5853010586477015.0000 - val_mean_squared_error: 5853010586477015.0000\n",
      "Epoch 135/200\n",
      "695/695 [==============================] - 0s 663us/step - loss: 6707698837492896.0000 - mean_squared_error: 6707698837492896.0000 - val_loss: 6257694998431579.0000 - val_mean_squared_error: 6257694998431579.0000\n",
      "Epoch 136/200\n",
      "695/695 [==============================] - 0s 662us/step - loss: 7218495601901002.0000 - mean_squared_error: 7218495601901002.0000 - val_loss: 6302110146938904.0000 - val_mean_squared_error: 6302110146938904.0000\n",
      "Epoch 137/200\n",
      "695/695 [==============================] - 0s 659us/step - loss: 7086257476662987.0000 - mean_squared_error: 7086257476662987.0000 - val_loss: 6140575161895689.0000 - val_mean_squared_error: 6140575161895689.0000\n",
      "Epoch 138/200\n",
      "695/695 [==============================] - 0s 630us/step - loss: 7062774535176027.0000 - mean_squared_error: 7062774535176027.0000 - val_loss: 6259806327371941.0000 - val_mean_squared_error: 6259806327371941.0000\n",
      "Epoch 139/200\n",
      "695/695 [==============================] - ETA: 0s - loss: 6776047472489957.0000 - mean_squared_error: 6776047472489957.00 - 0s 605us/step - loss: 7149033909047042.0000 - mean_squared_error: 7149033909047042.0000 - val_loss: 6290016892065298.0000 - val_mean_squared_error: 6290016892065298.0000\n",
      "Epoch 140/200\n",
      "695/695 [==============================] - 0s 622us/step - loss: 6721547102862817.0000 - mean_squared_error: 6721547102862817.0000 - val_loss: 6267891638018142.0000 - val_mean_squared_error: 6267891638018142.0000\n",
      "Epoch 141/200\n",
      "695/695 [==============================] - 0s 583us/step - loss: 7010307821081855.0000 - mean_squared_error: 7010307821081855.0000 - val_loss: 6101762274468311.0000 - val_mean_squared_error: 6101762274468311.0000\n",
      "Epoch 142/200\n",
      "695/695 [==============================] - 0s 594us/step - loss: 7027703828798015.0000 - mean_squared_error: 7027703828798015.0000 - val_loss: 6249762905035552.0000 - val_mean_squared_error: 6249762905035552.0000\n"
     ]
    },
    {
     "name": "stdout",
     "output_type": "stream",
     "text": [
      "Epoch 143/200\n",
      "695/695 [==============================] - 0s 601us/step - loss: 6991752217095950.0000 - mean_squared_error: 6991752217095950.0000 - val_loss: 5941985537805065.0000 - val_mean_squared_error: 5941985537805065.0000\n",
      "Epoch 144/200\n",
      "695/695 [==============================] - 0s 663us/step - loss: 6944340548188227.0000 - mean_squared_error: 6944340548188227.0000 - val_loss: 6068437696498441.0000 - val_mean_squared_error: 6068437696498441.0000\n",
      "Epoch 145/200\n",
      "695/695 [==============================] - 0s 656us/step - loss: 6776960732678242.0000 - mean_squared_error: 6776960732678242.0000 - val_loss: 6307998019487203.0000 - val_mean_squared_error: 6307998019487203.0000\n",
      "Epoch 146/200\n",
      "695/695 [==============================] - 0s 684us/step - loss: 7063028737373050.0000 - mean_squared_error: 7063028737373050.0000 - val_loss: 6096517179104433.0000 - val_mean_squared_error: 6096517179104433.0000\n",
      "Epoch 147/200\n",
      "695/695 [==============================] - 0s 623us/step - loss: 6794528956899270.0000 - mean_squared_error: 6794528956899270.0000 - val_loss: 6183352110524345.0000 - val_mean_squared_error: 6183352110524345.0000\n",
      "Epoch 148/200\n",
      "695/695 [==============================] - 0s 593us/step - loss: 6892392522076614.0000 - mean_squared_error: 6892392522076614.0000 - val_loss: 5656130729626000.0000 - val_mean_squared_error: 5656130729626000.0000\n",
      "Epoch 149/200\n",
      "695/695 [==============================] - 0s 582us/step - loss: 6784519270270390.0000 - mean_squared_error: 6784519270270390.0000 - val_loss: 5920081353469152.0000 - val_mean_squared_error: 5920081353469152.0000\n",
      "Epoch 150/200\n",
      "695/695 [==============================] - 0s 611us/step - loss: 6599800765256064.0000 - mean_squared_error: 6599800765256064.0000 - val_loss: 5936499368117542.0000 - val_mean_squared_error: 5936499368117542.0000\n",
      "Epoch 151/200\n",
      "695/695 [==============================] - 0s 617us/step - loss: 6504779247143905.0000 - mean_squared_error: 6504779247143905.0000 - val_loss: 5566687923838694.0000 - val_mean_squared_error: 5566687923838694.0000\n",
      "Epoch 152/200\n",
      "695/695 [==============================] - 0s 652us/step - loss: 6567280055795312.0000 - mean_squared_error: 6567280055795312.0000 - val_loss: 5685474629622773.0000 - val_mean_squared_error: 5685474629622773.0000\n",
      "Epoch 153/200\n",
      "695/695 [==============================] - 0s 658us/step - loss: 6534739979971682.0000 - mean_squared_error: 6534739979971682.0000 - val_loss: 5681862373913471.0000 - val_mean_squared_error: 5681862373913471.0000\n",
      "Epoch 154/200\n",
      "695/695 [==============================] - 0s 584us/step - loss: 6587915768060950.0000 - mean_squared_error: 6587915768060950.0000 - val_loss: 5622873722568517.0000 - val_mean_squared_error: 5622873722568517.0000\n",
      "Epoch 155/200\n",
      "695/695 [==============================] - 0s 651us/step - loss: 6488310901090578.0000 - mean_squared_error: 6488310901090578.0000 - val_loss: 5384974183519573.0000 - val_mean_squared_error: 5384974183519573.0000\n",
      "Epoch 156/200\n",
      "695/695 [==============================] - 0s 605us/step - loss: 6015322366669879.0000 - mean_squared_error: 6015322366669879.0000 - val_loss: 5362598389713485.0000 - val_mean_squared_error: 5362598389713485.0000\n",
      "Epoch 157/200\n",
      "695/695 [==============================] - 0s 668us/step - loss: 6201640501740793.0000 - mean_squared_error: 6201640501740793.0000 - val_loss: 5706386299315211.0000 - val_mean_squared_error: 5706386299315211.0000\n",
      "Epoch 158/200\n",
      "695/695 [==============================] - 0s 649us/step - loss: 6214287586616133.0000 - mean_squared_error: 6214287586616133.0000 - val_loss: 5600801311737880.0000 - val_mean_squared_error: 5600801311737880.0000\n",
      "Epoch 159/200\n",
      "695/695 [==============================] - 0s 627us/step - loss: 6207565308220930.0000 - mean_squared_error: 6207565308220930.0000 - val_loss: 5176867974072344.0000 - val_mean_squared_error: 5176867974072344.0000\n",
      "Epoch 160/200\n",
      "695/695 [==============================] - 0s 665us/step - loss: 6283779899265265.0000 - mean_squared_error: 6283779899265265.0000 - val_loss: 5333281596298205.0000 - val_mean_squared_error: 5333281596298205.0000\n",
      "Epoch 161/200\n",
      "695/695 [==============================] - 0s 644us/step - loss: 6099859171294077.0000 - mean_squared_error: 6099859171294077.0000 - val_loss: 5599526575009368.0000 - val_mean_squared_error: 5599526575009368.0000\n",
      "Epoch 162/200\n",
      "695/695 [==============================] - 0s 649us/step - loss: 6164628199295545.0000 - mean_squared_error: 6164628199295545.0000 - val_loss: 5752334771202731.0000 - val_mean_squared_error: 5752334771202731.0000\n",
      "Epoch 163/200\n",
      "695/695 [==============================] - 0s 611us/step - loss: 6518665078414382.0000 - mean_squared_error: 6518665078414382.0000 - val_loss: 5657440372991553.0000 - val_mean_squared_error: 5657440372991553.0000\n",
      "Epoch 164/200\n",
      "695/695 [==============================] - 0s 629us/step - loss: 5905668454639206.0000 - mean_squared_error: 5905668454639206.0000 - val_loss: 5597672310043707.0000 - val_mean_squared_error: 5597672310043707.0000\n",
      "Epoch 165/200\n",
      "695/695 [==============================] - 0s 672us/step - loss: 6079040216102697.0000 - mean_squared_error: 6079040216102697.0000 - val_loss: 5753063322000373.0000 - val_mean_squared_error: 5753063322000373.0000\n",
      "Epoch 166/200\n",
      "695/695 [==============================] - 0s 654us/step - loss: 6478554576204689.0000 - mean_squared_error: 6478554576204689.0000 - val_loss: 5688603563436715.0000 - val_mean_squared_error: 5688603563436715.0000\n",
      "Epoch 167/200\n",
      "695/695 [==============================] - 0s 697us/step - loss: 6334060543369912.0000 - mean_squared_error: 6334060543369912.0000 - val_loss: 6008619394466545.0000 - val_mean_squared_error: 6008619394466545.0000\n",
      "Epoch 168/200\n",
      "695/695 [==============================] - 1s 732us/step - loss: 6780439151374849.0000 - mean_squared_error: 6780439151374849.0000 - val_loss: 6148250884003911.0000 - val_mean_squared_error: 6148250884003911.0000\n",
      "Epoch 169/200\n",
      "695/695 [==============================] - 1s 876us/step - loss: 6885484959390930.0000 - mean_squared_error: 6885484959390930.0000 - val_loss: 6278279446845887.0000 - val_mean_squared_error: 6278279446845887.0000\n",
      "Epoch 170/200\n",
      "695/695 [==============================] - 1s 858us/step - loss: 6901451810076739.0000 - mean_squared_error: 6901451810076739.0000 - val_loss: 6098183245360352.0000 - val_mean_squared_error: 6098183245360352.0000\n",
      "Epoch 171/200\n",
      "695/695 [==============================] - 1s 800us/step - loss: 6845731934802304.0000 - mean_squared_error: 6845731934802304.0000 - val_loss: 5888358448100411.0000 - val_mean_squared_error: 5888358448100411.0000\n",
      "Epoch 172/200\n",
      "695/695 [==============================] - 1s 781us/step - loss: 7054192849470407.0000 - mean_squared_error: 7054192849470407.0000 - val_loss: 6102538373053146.0000 - val_mean_squared_error: 6102538373053146.0000\n",
      "Epoch 173/200\n",
      "695/695 [==============================] - 1s 787us/step - loss: 6942247040151263.0000 - mean_squared_error: 6942247040151263.0000 - val_loss: 6188632111753899.0000 - val_mean_squared_error: 6188632111753899.0000\n",
      "Epoch 174/200\n",
      "695/695 [==============================] - 0s 675us/step - loss: 6965461657805025.0000 - mean_squared_error: 6965461657805025.0000 - val_loss: 5909491094940142.0000 - val_mean_squared_error: 5909491094940142.0000\n",
      "Epoch 175/200\n",
      "695/695 [==============================] - 0s 643us/step - loss: 6851100844572978.0000 - mean_squared_error: 6851100844572978.0000 - val_loss: 6159681942547680.0000 - val_mean_squared_error: 6159681942547680.0000\n",
      "Epoch 176/200\n",
      "695/695 [==============================] - 0s 608us/step - loss: 6741872357357094.0000 - mean_squared_error: 6741872357357094.0000 - val_loss: 5868128254265933.0000 - val_mean_squared_error: 5868128254265933.0000\n",
      "Epoch 177/200\n",
      "695/695 [==============================] - 0s 671us/step - loss: 6608791515697582.0000 - mean_squared_error: 6608791515697582.0000 - val_loss: 6116463081278217.0000 - val_mean_squared_error: 6116463081278217.0000\n",
      "Epoch 178/200\n",
      "695/695 [==============================] - 0s 610us/step - loss: 6843809279560154.0000 - mean_squared_error: 6843809279560154.0000 - val_loss: 6153301328950707.0000 - val_mean_squared_error: 6153301328950707.0000\n",
      "Epoch 179/200\n",
      "695/695 [==============================] - 0s 673us/step - loss: 6744522816630001.0000 - mean_squared_error: 6744522816630001.0000 - val_loss: 6092381468085001.0000 - val_mean_squared_error: 6092381468085001.0000\n",
      "Epoch 180/200\n",
      "695/695 [==============================] - ETA: 0s - loss: 7176876497937434.0000 - mean_squared_error: 7176876497937434.00 - 0s 673us/step - loss: 6794863174684631.0000 - mean_squared_error: 6794863174684631.0000 - val_loss: 5754823847453519.0000 - val_mean_squared_error: 5754823847453519.0000\n",
      "Epoch 181/200\n",
      "695/695 [==============================] - 0s 658us/step - loss: 6935248869491395.0000 - mean_squared_error: 6935248869491395.0000 - val_loss: 6065917541129958.0000 - val_mean_squared_error: 6065917541129958.0000\n",
      "Epoch 182/200\n",
      "695/695 [==============================] - 0s 620us/step - loss: 7565643772738475.0000 - mean_squared_error: 7565643772738475.0000 - val_loss: 6402396567272342.0000 - val_mean_squared_error: 6402396567272342.0000\n",
      "Epoch 183/200\n",
      "695/695 [==============================] - 0s 671us/step - loss: 7454234103955150.0000 - mean_squared_error: 7454234103955150.0000 - val_loss: 6384832563865341.0000 - val_mean_squared_error: 6384832563865341.0000\n",
      "Epoch 184/200\n",
      "695/695 [==============================] - 0s 632us/step - loss: 7136113110579409.0000 - mean_squared_error: 7136113110579409.0000 - val_loss: 6356103026234333.0000 - val_mean_squared_error: 6356103026234333.0000\n",
      "Epoch 185/200\n",
      "695/695 [==============================] - 0s 660us/step - loss: 7540905734819681.0000 - mean_squared_error: 7540905734819681.0000 - val_loss: 6565775393809043.0000 - val_mean_squared_error: 6565775393809043.0000\n",
      "Epoch 186/200\n",
      "695/695 [==============================] - 0s 637us/step - loss: 7510446630904103.0000 - mean_squared_error: 7510446630904103.0000 - val_loss: 6722001698996789.0000 - val_mean_squared_error: 6722001698996789.0000\n",
      "Epoch 187/200\n",
      "695/695 [==============================] - 0s 651us/step - loss: 7489802399385438.0000 - mean_squared_error: 7489802399385438.0000 - val_loss: 6739981595318154.0000 - val_mean_squared_error: 6739981595318154.0000\n",
      "Epoch 188/200\n",
      "695/695 [==============================] - 0s 642us/step - loss: 7887700005952416.0000 - mean_squared_error: 7887700005952416.0000 - val_loss: 6104727552132579.0000 - val_mean_squared_error: 6104727552132579.0000\n",
      "Epoch 189/200\n",
      "695/695 [==============================] - 0s 644us/step - loss: 7592322283447650.0000 - mean_squared_error: 7592322283447650.0000 - val_loss: 6539813075529115.0000 - val_mean_squared_error: 6539813075529115.0000\n",
      "Epoch 190/200\n",
      "695/695 [==============================] - 0s 625us/step - loss: 7398369571324022.0000 - mean_squared_error: 7398369571324022.0000 - val_loss: 6345101629492542.0000 - val_mean_squared_error: 6345101629492542.0000\n",
      "Epoch 191/200\n",
      "695/695 [==============================] - 0s 624us/step - loss: 7332757262414124.0000 - mean_squared_error: 7332757262414124.0000 - val_loss: 6185475154203989.0000 - val_mean_squared_error: 6185475154203989.0000\n",
      "Epoch 192/200\n",
      "695/695 [==============================] - 0s 641us/step - loss: 7273626383014509.0000 - mean_squared_error: 7273626383014509.0000 - val_loss: 6176951349612214.0000 - val_mean_squared_error: 6176951349612214.0000\n",
      "Epoch 193/200\n",
      "695/695 [==============================] - ETA: 0s - loss: 6655631680534149.0000 - mean_squared_error: 6655631680534149.00 - 0s 637us/step - loss: 7290842028851223.0000 - mean_squared_error: 7290842028851223.0000 - val_loss: 6494901293659007.0000 - val_mean_squared_error: 6494901293659007.0000\n",
      "Epoch 194/200\n",
      "695/695 [==============================] - 0s 667us/step - loss: 7287849172429427.0000 - mean_squared_error: 7287849172429427.0000 - val_loss: 6182912570606133.0000 - val_mean_squared_error: 6182912570606133.0000\n",
      "Epoch 195/200\n",
      "695/695 [==============================] - 0s 584us/step - loss: 7207953351493918.0000 - mean_squared_error: 7207953351493918.0000 - val_loss: 6026474043278065.0000 - val_mean_squared_error: 6026474043278065.0000\n",
      "Epoch 196/200\n",
      "695/695 [==============================] - 0s 616us/step - loss: 6970918353887691.0000 - mean_squared_error: 6970918353887691.0000 - val_loss: 6016340486023662.0000 - val_mean_squared_error: 6016340486023662.0000\n",
      "Epoch 197/200\n",
      "695/695 [==============================] - 0s 634us/step - loss: 6905107069030665.0000 - mean_squared_error: 6905107069030665.0000 - val_loss: 6183593168649298.0000 - val_mean_squared_error: 6183593168649298.0000\n",
      "Epoch 198/200\n",
      "695/695 [==============================] - 0s 636us/step - loss: 6795990976126445.0000 - mean_squared_error: 6795990976126445.0000 - val_loss: 5877742025599470.0000 - val_mean_squared_error: 5877742025599470.0000\n",
      "Epoch 199/200\n",
      "695/695 [==============================] - 0s 640us/step - loss: 6605281180797733.0000 - mean_squared_error: 6605281180797733.0000 - val_loss: 5787645009437143.0000 - val_mean_squared_error: 5787645009437143.0000\n",
      "Epoch 200/200\n",
      "695/695 [==============================] - 0s 636us/step - loss: 6587722254678791.0000 - mean_squared_error: 6587722254678791.0000 - val_loss: 5660239408886466.0000 - val_mean_squared_error: 5660239408886466.0000\n"
     ]
    }
   ],
   "source": [
    "history = model.fit(st_X_train, st_y_train, epochs = 200, batch_size= 8, validation_split = 0.2)"
   ]
  },
  {
   "cell_type": "code",
   "execution_count": 243,
   "metadata": {},
   "outputs": [
    {
     "data": {
      "text/plain": [
       "<matplotlib.legend.Legend at 0x21a9ff65ac8>"
      ]
     },
     "execution_count": 243,
     "metadata": {},
     "output_type": "execute_result"
    },
    {
     "data": {
      "image/png": "[encoded data removed]",
      "text/plain": [
       "<Figure size 360x216 with 1 Axes>"
      ]
     },
     "metadata": {},
     "output_type": "display_data"
    }
   ],
   "source": [
    "plt.figure(figsize=(5, 3))\n",
    "plt.plot(history.history['mean_squared_error'])\n",
    "plt.plot(history.history['val_mean_squared_error'])\n",
    "\n",
    "plt.ylabel('mse')\n",
    "plt.xlabel('epoch')\n",
    "plt.legend(['train', 'test'], loc='upper left')"
   ]
  },
  {
   "cell_type": "code",
   "execution_count": 487,
   "metadata": {},
   "outputs": [],
   "source": [
    "margin = xg_rg1.predict(seoul_test_X)\n",
    "seoul_predict_value1 = margin + seoul_test[\"#security#\"]"
   ]
  },
  {
   "cell_type": "code",
   "execution_count": 488,
   "metadata": {},
   "outputs": [],
   "source": [
    "margin = xg_rg2.predict(busan_test_X)\n",
    "busan_predict_value1 = margin + busan_test[\"#security#\"]"
   ]
  },
  {
   "cell_type": "code",
   "execution_count": 489,
   "metadata": {},
   "outputs": [
    {
     "data": {
      "text/plain": [
       "296"
      ]
     },
     "execution_count": 489,
     "metadata": {},
     "output_type": "execute_result"
    }
   ],
   "source": [
    "len(busan_predict_value1)"
   ]
  },
  {
   "cell_type": "code",
   "execution_count": 490,
   "metadata": {},
   "outputs": [
    {
     "data": {
      "text/plain": [
       "533"
      ]
     },
     "execution_count": 490,
     "metadata": {},
     "output_type": "execute_result"
    }
   ],
   "source": [
    "len(seoul_predict_value1)"
   ]
  },
  {
   "cell_type": "code",
   "execution_count": 491,
   "metadata": {
    "scrolled": false
   },
   "outputs": [],
   "source": [
    "pd.set_option('display.max_rows', 10000)\n",
    "pd.set_option('display.max_columns', 10000)\n",
    "\n",
    "submission = pd.concat([busan_predict_value1, seoul_predict_value1])"
   ]
  },
  {
   "cell_type": "code",
   "execution_count": 11,
   "metadata": {},
   "outputs": [],
   "source": [
    "#submission = pd.DataFrame(submission)\n",
    "#submission.head()"
   ]
  },
  {
   "cell_type": "code",
   "execution_count": 493,
   "metadata": {},
   "outputs": [],
   "source": [
    "#submission.to_csv('./submission/submission10.csv', header= False, index= False)"
   ]
  }
 ],
 "metadata": {
  "kernelspec": {
   "display_name": "Python 3",
   "language": "python",
   "name": "python3"
  },
  "language_info": {
   "codemirror_mode": {
    "name": "ipython",
    "version": 3
   },
   "file_extension": ".py",
   "mimetype": "text/x-python",
   "name": "python",
   "nbconvert_exporter": "python",
   "pygments_lexer": "ipython3",
   "version": "3.6.5"
  }
 },
 "nbformat": 4,
 "nbformat_minor": 2
}
